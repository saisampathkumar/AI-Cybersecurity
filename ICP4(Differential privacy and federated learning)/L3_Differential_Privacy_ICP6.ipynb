{
  "nbformat": 4,
  "nbformat_minor": 0,
  "metadata": {
    "colab": {
      "name": "L3-Differential Privacy ICP6.ipynb",
      "version": "0.3.2",
      "provenance": [],
      "collapsed_sections": [
        "K9h85ktU5BK1",
        "MV12MsPI5BK1",
        "x8r7HiI25BK2",
        "JFrUdcRH5BLB",
        "Q8CwLoPU5BLM"
      ],
      "include_colab_link": true
    },
    "language_info": {
      "codemirror_mode": {
        "name": "ipython",
        "version": 3
      },
      "file_extension": ".py",
      "mimetype": "text/x-python",
      "name": "python",
      "nbconvert_exporter": "python",
      "pygments_lexer": "ipython3",
      "version": "3.6.1"
    },
    "kernelspec": {
      "name": "python3",
      "display_name": "Python 3"
    },
    "accelerator": "GPU"
  },
  "cells": [
    {
      "cell_type": "markdown",
      "metadata": {
        "id": "view-in-github",
        "colab_type": "text"
      },
      "source": [
        "<a href=\"https://colab.research.google.com/github/saisampathkumar/AI-Cybersecurity/blob/master/ICP6/L3_Differential_Privacy_ICP6.ipynb\" target=\"_parent\"><img src=\"https://colab.research.google.com/assets/colab-badge.svg\" alt=\"Open In Colab\"/></a>"
      ]
    },
    {
      "cell_type": "markdown",
      "metadata": {
        "id": "ZU0JgNTD5BJK",
        "colab_type": "text"
      },
      "source": [
        "## Toy Differential Privacy - Simple Database Queries"
      ]
    },
    {
      "cell_type": "markdown",
      "metadata": {
        "id": "wbKYWRrD5BJK",
        "colab_type": "text"
      },
      "source": [
        "In the context of Deep Learning, Differential Privacy ensures that the DL algorithms learns only what is is supposed to learn from the data while ignoring what it is not supposed to learn from the data. This is called Differential Privacy (DP). But what is DP?\n",
        "\n",
        "\n",
        "\n",
        "\n",
        "\n",
        "**Differential Privacy (DP):** \n",
        "The main goal is to ensure that statistical analysis techniques does not compromise the privacy of any particular individual in the dataset. \n",
        "\n",
        "*  Classical privacy defination: privacy is preserved if after the analysis is done, the analyzer does not know anything about the people in the dataset. (No information leak from the data.)\n",
        "\n",
        "- The Netflix Prize (anonymized simply! Attacked using the Linkage Attack)\n",
        "- Anonymization is not enough to protect our privacy\n",
        "\n",
        "A modern definition by Cynthia Dwork:\n",
        "DP describes a promise made by the data holder to a data subject that:  \"you will not be affected by allowing your data to be used in any study or analysis , no matter what other studies, datasets, or information sources are available\".\n",
        "\n",
        "\n",
        "**DP** is a mathematical definition of privacy. In the simplest setting, consider an algorithm that analyzes a dataset and computes statistics about it (such as the data's mean, variance, median, mode, etc.). Such an algorithm is said to be differentially private if by looking at the output, one cannot tell whether any individual's data was included in the original dataset or not. \n"
      ]
    },
    {
      "cell_type": "markdown",
      "metadata": {
        "id": "tlqpsupNwzdd",
        "colab_type": "text"
      },
      "source": [
        "\n",
        "\n",
        "---\n",
        "\n",
        "\n",
        "In this section we're going to play around with Differential Privacy in the context of a database query. The database is going to be a VERY simple database with only one boolean vector. Each row corresponds to a person. Each value corresponds to whether or not that person has a certain private attribute (such as whether they have a certain disease, or whether they are above/below a certain age). \n",
        "\n",
        "We are then going to learn how to know whether a database query over such a small database is differentially private or not - and more importantly - what techniques are at our disposal to ensure various levels of privacy\n",
        "\n",
        "\n",
        "### First We Create a Simple Database\n",
        "\n",
        "Step one is to create our database - we're going to do this by initializing a random list of 1s and 0s (which are the entries in our database). Note - the number of entries directly corresponds to the number of people in our database."
      ]
    },
    {
      "cell_type": "code",
      "metadata": {
        "id": "jzGB2H925BJL",
        "colab_type": "code",
        "outputId": "240ce9be-ffbc-489e-b29f-3d72e5160153",
        "colab": {
          "base_uri": "https://localhost:8080/",
          "height": 35
        }
      },
      "source": [
        "import torch\n",
        "\n",
        "# the number of entries in our database\n",
        "num_entries = 5000\n",
        "\n",
        "db = torch.rand(num_entries) > 0.5 # returns a new Boolean tensor with each value > 0.5 set to 1 otherwise set to 0\n",
        "db"
      ],
      "execution_count": 0,
      "outputs": [
        {
          "output_type": "execute_result",
          "data": {
            "text/plain": [
              "tensor([1, 1, 0,  ..., 1, 0, 0], dtype=torch.uint8)"
            ]
          },
          "metadata": {
            "tags": []
          },
          "execution_count": 1
        }
      ]
    },
    {
      "cell_type": "markdown",
      "metadata": {
        "id": "08nxGBFT5BJQ",
        "colab_type": "text"
      },
      "source": [
        "## Project: Generate Parallel Databases\n",
        "\n",
        "Key to the definition of differenital privacy is the ability to ask the question \"When querying a database, if I removed someone from the database, would the output of the query be any different?\". Thus, in order to check this, we must construct what we term \"parallel databases\" which are simply databases with one entry removed. \n",
        "\n",
        "In this first project, I want you to create a list of every parallel database to the one currently contained in the \"db\" variable. Then, I want you to create a function which both:\n",
        "\n",
        "- creates the initial database (db)\n",
        "- creates all parallel databases"
      ]
    },
    {
      "cell_type": "code",
      "metadata": {
        "id": "WpWkwFBh5BJQ",
        "colab_type": "code",
        "colab": {}
      },
      "source": [
        "import torch"
      ],
      "execution_count": 0,
      "outputs": []
    },
    {
      "cell_type": "code",
      "metadata": {
        "id": "NNvnoh1B5BJS",
        "colab_type": "code",
        "outputId": "d4561964-48f8-435b-c234-db026061456a",
        "colab": {
          "base_uri": "https://localhost:8080/",
          "height": 35
        }
      },
      "source": [
        "def create_db(entries):\n",
        "  return torch.rand(entries) > 0.5\n",
        "db = create_db(5000)\n",
        "db"
      ],
      "execution_count": 0,
      "outputs": [
        {
          "output_type": "execute_result",
          "data": {
            "text/plain": [
              "tensor([0, 1, 1,  ..., 1, 1, 0], dtype=torch.uint8)"
            ]
          },
          "metadata": {
            "tags": []
          },
          "execution_count": 3
        }
      ]
    },
    {
      "cell_type": "code",
      "metadata": {
        "id": "QmtQw-R15BJU",
        "colab_type": "code",
        "colab": {}
      },
      "source": [
        "# create a function to create paraller db\n",
        "def get_parallel_dbs(db):\n",
        "\n",
        "    parallel_dbs = list()\n",
        "\n",
        "    for i in range(len(db)):\n",
        "        pdb = torch.cat((db[0:i], db[i+1:]))\n",
        "        parallel_dbs.append(pdb)\n",
        "    #print(f'A databse of size {db.shape} was created')\n",
        "    return parallel_dbs\n",
        "\n",
        "pdb = get_parallel_dbs(db)\n"
      ],
      "execution_count": 0,
      "outputs": []
    },
    {
      "cell_type": "code",
      "metadata": {
        "id": "hSePcsaF9-he",
        "colab_type": "code",
        "colab": {}
      },
      "source": [
        ""
      ],
      "execution_count": 0,
      "outputs": []
    },
    {
      "cell_type": "code",
      "metadata": {
        "id": "zGnmz4Os5BJV",
        "colab_type": "code",
        "colab": {}
      },
      "source": [
        "# a helper function for the future\n",
        "def get_db_and_parallel(num_entries):\n",
        "  db = torch.rand(num_entries) > 0.5\n",
        "  pdb = get_parallel_dbs(db)\n",
        "  return db, pdb"
      ],
      "execution_count": 0,
      "outputs": []
    },
    {
      "cell_type": "markdown",
      "metadata": {
        "id": "FDztwe045BJZ",
        "colab_type": "text"
      },
      "source": [
        "# Lesson: Towards Evaluating The Differential Privacy of a Function\n",
        "\n",
        "Intuitively, we want to be able to query our database and evaluate whether or not the result of the query is leaking \"private\" information. As mentioned previously, this is about evaluating whether the output of a query changes when we remove someone from the database. Specifically, we want to evaluate the *maximum* amount the query changes when someone is removed (maximum over all possible people who could be removed). So, in order to evaluate how much privacy is leaked, we're going to iterate over each person in the database and measure the difference in the output of the query relative to when we query the entire database. \n",
        "\n",
        "Just for the sake of argument, let's make our first \"database query\" a simple sum. Aka, we're going to count the number of 1s in the database."
      ]
    },
    {
      "cell_type": "code",
      "metadata": {
        "id": "_ChVS5xE5BJZ",
        "colab_type": "code",
        "colab": {}
      },
      "source": [
        "db,pdbs = get_db_and_parallel(5000)"
      ],
      "execution_count": 0,
      "outputs": []
    },
    {
      "cell_type": "code",
      "metadata": {
        "id": "08H6IgeS5BJb",
        "colab_type": "code",
        "colab": {}
      },
      "source": [
        "def query(db):\n",
        "  return torch.sum(db)"
      ],
      "execution_count": 0,
      "outputs": []
    },
    {
      "cell_type": "code",
      "metadata": {
        "id": "hvmsUntP5BJe",
        "colab_type": "code",
        "outputId": "ffd7eb1c-a506-4add-955c-701f65185b96",
        "colab": {
          "base_uri": "https://localhost:8080/",
          "height": 35
        }
      },
      "source": [
        "db_result = query(db)\n",
        "print(db_result)"
      ],
      "execution_count": 0,
      "outputs": [
        {
          "output_type": "stream",
          "text": [
            "tensor(2525)\n"
          ],
          "name": "stdout"
        }
      ]
    },
    {
      "cell_type": "code",
      "metadata": {
        "id": "j3jrqjMI5BJh",
        "colab_type": "code",
        "outputId": "22ba1886-ebb5-43ef-bc76-2b36d56dfb9e",
        "colab": {
          "base_uri": "https://localhost:8080/",
          "height": 35
        }
      },
      "source": [
        "sensitivity = 0  \n",
        "  # maximum difference between query(db) and each query(pdb)\n",
        "  # return the value of sensitivity\n",
        "  # loop on each pdb in the pdbs and calculate its distance\n",
        "  # find the maximum distance <-- that's your sensitivity\n",
        "for i in pdbs:\n",
        "    pdb_result = query(i)\n",
        "    distance = db_result-pdb_result\n",
        "    if(distance>sensitivity):\n",
        "       sensitivity = distance\n",
        "    \n",
        "print(sensitivity)    \n",
        "    "
      ],
      "execution_count": 0,
      "outputs": [
        {
          "output_type": "stream",
          "text": [
            "tensor(1)\n"
          ],
          "name": "stdout"
        }
      ]
    },
    {
      "cell_type": "code",
      "metadata": {
        "id": "KvRJWrqK5BJj",
        "colab_type": "code",
        "outputId": "0cc41cce-374c-4043-b593-2b8f746e59c1",
        "colab": {
          "base_uri": "https://localhost:8080/",
          "height": 35
        }
      },
      "source": [
        "sensitivity"
      ],
      "execution_count": 0,
      "outputs": [
        {
          "output_type": "execute_result",
          "data": {
            "text/plain": [
              "tensor(1)"
            ]
          },
          "metadata": {
            "tags": []
          },
          "execution_count": 10
        }
      ]
    },
    {
      "cell_type": "markdown",
      "metadata": {
        "id": "30nCWZaG5BJl",
        "colab_type": "text"
      },
      "source": [
        "# Exercise - Evaluating the Privacy of a Function\n",
        "\n",
        "In the last section, we measured the difference between each parallel db's query result and the query result for the entire database and then calculated the max value (which was 1). This value is called \"sensitivity\", and it corresponds to the function we chose for the query. Namely, the \"sum\" query will always have a sensitivity of exactly 1. However, we can also calculate sensitivity for other functions as well.\n",
        "\n",
        "First, create a function that will accept (1) a query function and (2) a num_items to generate the db and the pdb: \n",
        "\n",
        "**Hint:** def sensitivity(query, num_items)"
      ]
    },
    {
      "cell_type": "code",
      "metadata": {
        "id": "1horUInX5BJm",
        "colab_type": "code",
        "colab": {}
      },
      "source": [
        "# define a function to calculate the sensitivity of a query\n",
        "def sensitivity(query, num_items):\n",
        "  \n",
        "  # generate the db and the pdbs\n",
        "  db,pdbs = get_db_and_parallel(num_items)\n",
        "  \n",
        "  # query the db\n",
        "  db_result = query(db)\n",
        "  # return the value of sensitivity\n",
        "  # loop on each pdb in the pdbs and calculate its distance\n",
        "  # find the maximum distance <-- that's your sensitivity\n",
        " \n",
        "  sensitivity = 0\n",
        "  for i in pdbs:\n",
        "      pdb_result = query(i)\n",
        "      distance = db_result-pdb_result\n",
        "      if(distance>sensitivity):\n",
        "         sensitivity = distance\n",
        "  print(sensitivity) \n",
        "  return sensitivity  \n",
        "  "
      ],
      "execution_count": 0,
      "outputs": []
    },
    {
      "cell_type": "code",
      "metadata": {
        "id": "oDIqo7Jj5BJn",
        "colab_type": "code",
        "colab": {}
      },
      "source": [
        "# recreate the sum query we created earlier\n",
        "def query(db):\n",
        "  return torch.sum(db)"
      ],
      "execution_count": 0,
      "outputs": []
    },
    {
      "cell_type": "code",
      "metadata": {
        "id": "RrIqncaK5BJo",
        "colab_type": "code",
        "outputId": "d5d5983d-be2d-4935-fce4-de0d6e61f222",
        "colab": {
          "base_uri": "https://localhost:8080/",
          "height": 52
        }
      },
      "source": [
        "# test your sensitivity function with the sum query\n",
        "sensitivity(query,1000)"
      ],
      "execution_count": 0,
      "outputs": [
        {
          "output_type": "stream",
          "text": [
            "tensor(1)\n"
          ],
          "name": "stdout"
        },
        {
          "output_type": "execute_result",
          "data": {
            "text/plain": [
              "tensor(1)"
            ]
          },
          "metadata": {
            "tags": []
          },
          "execution_count": 13
        }
      ]
    },
    {
      "cell_type": "code",
      "metadata": {
        "id": "Q1x-ei2s5BJq",
        "colab_type": "code",
        "colab": {}
      },
      "source": [
        "# create a new query function, which finds the mean rather than the sum\n",
        "def query(db):\n",
        "  return torch.sum(db.float())/len(db)\n"
      ],
      "execution_count": 0,
      "outputs": []
    },
    {
      "cell_type": "code",
      "metadata": {
        "id": "Lu9z_WHA5BJr",
        "colab_type": "code",
        "outputId": "87faf3ad-a4a4-4a6a-9343-02cc72dcdfd2",
        "colab": {
          "base_uri": "https://localhost:8080/",
          "height": 52
        }
      },
      "source": [
        "# test your sensitivity function of the Mean query\n",
        "# how much the output value (query) is using informaiton frmo each of the participating observations\n",
        "sensitivity(query, 1000)"
      ],
      "execution_count": 0,
      "outputs": [
        {
          "output_type": "stream",
          "text": [
            "tensor(0.0005)\n"
          ],
          "name": "stdout"
        },
        {
          "output_type": "execute_result",
          "data": {
            "text/plain": [
              "tensor(0.0005)"
            ]
          },
          "metadata": {
            "tags": []
          },
          "execution_count": 15
        }
      ]
    },
    {
      "cell_type": "code",
      "metadata": {
        "id": "ep7ZWONu5BJw",
        "colab_type": "code",
        "colab": {}
      },
      "source": [
        ""
      ],
      "execution_count": 0,
      "outputs": []
    },
    {
      "cell_type": "markdown",
      "metadata": {
        "id": "BFQfOp2Z5BJy",
        "colab_type": "text"
      },
      "source": [
        "Wow! That sensitivity is WAY lower. Note the intuition here. \"Sensitivity\" is measuring how sensitive the output of the query is to a person being removed from the database. For a simple sum, this is always 1, but for the mean, removing a person is going to change the result of the query by rougly 1 divided by the size of the database (which is much smaller). Thus, \"mean\" is a VASTLY less \"sensitive\" function (query) than SUM."
      ]
    },
    {
      "cell_type": "markdown",
      "metadata": {
        "id": "VE1uK8YW5BJz",
        "colab_type": "text"
      },
      "source": [
        "# Exercise: Calculate L1 Sensitivity For Threshold\n",
        "\n",
        "In this exercise, you need to calculate the sensitivty for the \"threshold\" function. \n",
        "\n",
        "- First compute the sum over the database (i.e. sum(db)) and return whether that sum is greater than a certain threshold.\n",
        "\n",
        "- Then, create databases of size 10 and threshold of 5 and calculate the sensitivity of the function. \n",
        "\n",
        "- Finally, re-initialize the database 10 times and calculate the sensitivity each time."
      ]
    },
    {
      "cell_type": "code",
      "metadata": {
        "id": "gtbKDeSqXgYT",
        "colab_type": "code",
        "colab": {}
      },
      "source": [
        "# define a function to calculate the sensitivity of a query\n",
        "def sensitivity(query, num_items,tr):\n",
        "  \n",
        "  # generate the db and the pdbs\n",
        "  db,pdbs = get_db_and_parallel(num_items)\n",
        "  \n",
        "  # query the db\n",
        "  db_result = query(db,tr)\n",
        "  # return the value of sensitivity\n",
        "  # loop on each pdb in the pdbs and calculate its distance\n",
        "  # find the maximum distance <-- that's your sensitivity\n",
        " \n",
        "  sensitivity = 0\n",
        "  for i in pdbs:\n",
        "      pdb_result = query(i,tr)\n",
        "      distance = db_result-pdb_result\n",
        "      if(distance>sensitivity):\n",
        "         sensitivity = distance\n",
        "  print(sensitivity) \n",
        "  return sensitivity "
      ],
      "execution_count": 0,
      "outputs": []
    },
    {
      "cell_type": "code",
      "metadata": {
        "id": "WWjqHplZ5BJz",
        "colab_type": "code",
        "colab": {}
      },
      "source": [
        "# define a fucntion to query the sum and return wethere the sum is greater or less than a threshold\n",
        "def query(db,tr):\n",
        "  total = torch.sum(db.float())\n",
        "  return (total>tr).float()\n"
      ],
      "execution_count": 0,
      "outputs": []
    },
    {
      "cell_type": "code",
      "metadata": {
        "id": "twbkT1cO5BJ1",
        "colab_type": "code",
        "outputId": "bb5f87a8-a142-434a-c70c-d232d5bb7439",
        "colab": {
          "base_uri": "https://localhost:8080/",
          "height": 52
        }
      },
      "source": [
        "# the sensitivity with db of size 10 and threshold of 5\n",
        "sensitivity(query, 10, 5)"
      ],
      "execution_count": 0,
      "outputs": [
        {
          "output_type": "stream",
          "text": [
            "0\n"
          ],
          "name": "stdout"
        },
        {
          "output_type": "execute_result",
          "data": {
            "text/plain": [
              "0"
            ]
          },
          "metadata": {
            "tags": []
          },
          "execution_count": 18
        }
      ]
    },
    {
      "cell_type": "code",
      "metadata": {
        "id": "rQdXh4pX5BJ3",
        "colab_type": "code",
        "outputId": "6f027051-1779-4103-8fa7-533f97c50a91",
        "colab": {
          "base_uri": "https://localhost:8080/",
          "height": 208
        }
      },
      "source": [
        "# repeat for 10 times\n",
        "sensitivity(query, 10,5)\n",
        "sensitivity(query, 10,5)\n",
        "sensitivity(query, 10,5)\n",
        "sensitivity(query, 10,5)\n",
        "sensitivity(query, 10,5)\n",
        "sensitivity(query, 10,5)\n",
        "sensitivity(query, 10,5)\n",
        "sensitivity(query, 10,5)\n",
        "sensitivity(query, 10,5)\n",
        "sensitivity(query, 10,5)"
      ],
      "execution_count": 0,
      "outputs": [
        {
          "output_type": "stream",
          "text": [
            "tensor(1.)\n",
            "0\n",
            "0\n",
            "0\n",
            "0\n",
            "0\n",
            "0\n",
            "tensor(1.)\n",
            "0\n",
            "tensor(1.)\n"
          ],
          "name": "stdout"
        },
        {
          "output_type": "execute_result",
          "data": {
            "text/plain": [
              "tensor(1.)"
            ]
          },
          "metadata": {
            "tags": []
          },
          "execution_count": 19
        }
      ]
    },
    {
      "cell_type": "code",
      "metadata": {
        "id": "939aUgmb5BJ5",
        "colab_type": "code",
        "colab": {}
      },
      "source": [
        ""
      ],
      "execution_count": 0,
      "outputs": []
    },
    {
      "cell_type": "markdown",
      "metadata": {
        "id": "uSpX8dIj5BKB",
        "colab_type": "text"
      },
      "source": [
        "# A Basic Differencing Attack\n",
        "\n",
        "Sadly none of the functions we've looked at so far are differentially private (despite them having varying levels of sensitivity). The most basic type of attack can be done as follows.\n",
        "\n",
        "Let's say we wanted to figure out a specific person's value in the database. All we would have to do is query for the sum of the entire database and then the sum of the entire database without that person!\n",
        "\n",
        "# Exercise:  Perform a Differencing Attack on Row 10\n",
        "\n",
        "In this project, construct a database and then demonstrate how you can use  different queries (sum, threshold, and mean) to explose the value of the person represented by row 10 in the database (note, you'll need to use a database with at least 10 rows)"
      ]
    },
    {
      "cell_type": "code",
      "metadata": {
        "id": "V3fQ-5Yr5BKC",
        "colab_type": "code",
        "outputId": "ffa0a2f4-deef-4cb8-9fb1-b87554cd0aab",
        "colab": {
          "base_uri": "https://localhost:8080/",
          "height": 35
        }
      },
      "source": [
        "# Perform a differencing attack using the sum query on row\n",
        "  db,pdbs = get_db_and_parallel(10)\n",
        "  db"
      ],
      "execution_count": 0,
      "outputs": [
        {
          "output_type": "execute_result",
          "data": {
            "text/plain": [
              "tensor([1, 1, 1, 1, 1, 0, 1, 0, 1, 1], dtype=torch.uint8)"
            ]
          },
          "metadata": {
            "tags": []
          },
          "execution_count": 20
        }
      ]
    },
    {
      "cell_type": "code",
      "metadata": {
        "id": "mmfIxAEUgILu",
        "colab_type": "code",
        "outputId": "99e74edc-bbe6-40de-b5cb-f646a70ea6e9",
        "colab": {
          "base_uri": "https://localhost:8080/",
          "height": 191
        }
      },
      "source": [
        "k = 9\n",
        "for i in range(len(db)):\n",
        "        pdb = torch.cat((db[0:k-1], db[k+1:]))\n",
        "        print(pdb)"
      ],
      "execution_count": 0,
      "outputs": [
        {
          "output_type": "stream",
          "text": [
            "tensor([1, 1, 1, 1, 1, 0, 1, 0], dtype=torch.uint8)\n",
            "tensor([1, 1, 1, 1, 1, 0, 1, 0], dtype=torch.uint8)\n",
            "tensor([1, 1, 1, 1, 1, 0, 1, 0], dtype=torch.uint8)\n",
            "tensor([1, 1, 1, 1, 1, 0, 1, 0], dtype=torch.uint8)\n",
            "tensor([1, 1, 1, 1, 1, 0, 1, 0], dtype=torch.uint8)\n",
            "tensor([1, 1, 1, 1, 1, 0, 1, 0], dtype=torch.uint8)\n",
            "tensor([1, 1, 1, 1, 1, 0, 1, 0], dtype=torch.uint8)\n",
            "tensor([1, 1, 1, 1, 1, 0, 1, 0], dtype=torch.uint8)\n",
            "tensor([1, 1, 1, 1, 1, 0, 1, 0], dtype=torch.uint8)\n",
            "tensor([1, 1, 1, 1, 1, 0, 1, 0], dtype=torch.uint8)\n"
          ],
          "name": "stdout"
        }
      ]
    },
    {
      "cell_type": "code",
      "metadata": {
        "id": "j9iG9DHRaRfH",
        "colab_type": "code",
        "outputId": "6238efd0-6100-4ddc-9352-89834eeac2fc",
        "colab": {
          "base_uri": "https://localhost:8080/",
          "height": 35
        }
      },
      "source": [
        "sum(db) "
      ],
      "execution_count": 0,
      "outputs": [
        {
          "output_type": "execute_result",
          "data": {
            "text/plain": [
              "tensor(8, dtype=torch.uint8)"
            ]
          },
          "metadata": {
            "tags": []
          },
          "execution_count": 22
        }
      ]
    },
    {
      "cell_type": "code",
      "metadata": {
        "id": "9OWDCk4Ph0rs",
        "colab_type": "code",
        "outputId": "6c1950cf-e12c-44b4-892e-12552e8ffac2",
        "colab": {
          "base_uri": "https://localhost:8080/",
          "height": 35
        }
      },
      "source": [
        "sum(pdb)"
      ],
      "execution_count": 0,
      "outputs": [
        {
          "output_type": "execute_result",
          "data": {
            "text/plain": [
              "tensor(6, dtype=torch.uint8)"
            ]
          },
          "metadata": {
            "tags": []
          },
          "execution_count": 23
        }
      ]
    },
    {
      "cell_type": "code",
      "metadata": {
        "id": "MR4RreixfilU",
        "colab_type": "code",
        "outputId": "07d5c2a8-2917-4a13-aad6-cdbeb52b8302",
        "colab": {
          "base_uri": "https://localhost:8080/",
          "height": 35
        }
      },
      "source": [
        "print(sum(db) - sum(pdb))"
      ],
      "execution_count": 0,
      "outputs": [
        {
          "output_type": "stream",
          "text": [
            "tensor(2, dtype=torch.uint8)\n"
          ],
          "name": "stdout"
        }
      ]
    },
    {
      "cell_type": "code",
      "metadata": {
        "id": "3BpMubXO5BKD",
        "colab_type": "code",
        "outputId": "41332dae-21f8-4c69-8f5e-fe7fa794492c",
        "colab": {
          "base_uri": "https://localhost:8080/",
          "height": 35
        }
      },
      "source": [
        "# Perform a differencing attack using the mean query on row 10\n",
        "print((sum(db).float()/len(db)) - (sum(pdb).float()/len(pdb)))"
      ],
      "execution_count": 0,
      "outputs": [
        {
          "output_type": "stream",
          "text": [
            "tensor(0.0500)\n"
          ],
          "name": "stdout"
        }
      ]
    },
    {
      "cell_type": "code",
      "metadata": {
        "id": "302S0ZEr5BKF",
        "colab_type": "code",
        "outputId": "aae207ba-5ffd-4dfb-b537-0274308036d7",
        "colab": {
          "base_uri": "https://localhost:8080/",
          "height": 35
        }
      },
      "source": [
        "# Perform a differencing attack using the threshold query on row 10\n",
        "print((sum(db.float())>49)- (sum(pdb.float())>49))"
      ],
      "execution_count": 0,
      "outputs": [
        {
          "output_type": "stream",
          "text": [
            "tensor(0, dtype=torch.uint8)\n"
          ],
          "name": "stdout"
        }
      ]
    },
    {
      "cell_type": "markdown",
      "metadata": {
        "id": "768QSDSa5BKP",
        "colab_type": "text"
      },
      "source": [
        "# Project: Local Differential Privacy\n",
        "\n",
        "As you can see, the basic sum query is not differentially private at all! In truth, differential privacy always requires a form of randomness added to the query. Let me show you what I mean.\n",
        "\n",
        "### Randomized Response (Local Differential Privacy)\n",
        "\n",
        "Let's say I have a group of people I wish to survey about a very taboo behavior which I think they will lie about (say, I want to know if they have ever committed a certain kind of crime). I'm not a policeman, I'm just trying to collect statistics to understand the higher level trend in society. So, how do we do this? One technique is to add randomness to each person's response by giving each person the following instructions (assuming I'm asking a simple yes/no question):\n",
        "\n",
        "- Flip a coin 2 times.\n",
        "- If the first coin flip is heads, answer honestly\n",
        "- If the first coin flip is tails, answer according to the second coin flip (heads for yes, tails for no)!\n",
        "\n",
        "Thus, each person is now protected with \"plausible deniability\". If they answer \"Yes\" to the question \"have you committed X crime?\", then it might becasue they actually did, or it might be becasue they are answering according to a random coin flip. Each person has a high degree of protection. Furthermore, we can recover the underlying statistics with some accuracy, as the \"true statistics\" are simply averaged with a 50% probability. Thus, if we collect a bunch of samples and it turns out that 60% of people answer yes, then we know that the TRUE distribution is actually centered around 70%, because 70% averaged wtih 50% (a coin flip) is 60% which is the result we obtained. \n",
        "\n",
        "However, it should be noted that, especially when we only have a few samples, the this comes at the cost of accuracy. This tradeoff exists across all of Differential Privacy. The greater the privacy protection (plausible deniability) the less accurate the results. \n",
        "\n",
        "Let's implement this local DP for our database before!"
      ]
    },
    {
      "cell_type": "code",
      "metadata": {
        "id": "8Nlas8J25BKS",
        "colab_type": "code",
        "colab": {}
      },
      "source": [
        "def noise(db,augdb):\n",
        "  for i in range(len(db)):\n",
        "    ran = torch.rand(1) > 0.5\n",
        "    if ran[0].item() == 1:\n",
        "      augdb[i] = db[i].item()\n",
        "    else:\n",
        "      ran = torch.rand(1) > 0.5\n",
        "      if ran[0].item() == 1:\n",
        "        augdb[i] = 1\n",
        "      else:\n",
        "        augdb[i] = 0\n",
        "  return augdb\n",
        "  \n",
        "\n",
        "# ran = torch.rand(1) > 0.5\n",
        "# ran[0].item()"
      ],
      "execution_count": 0,
      "outputs": []
    },
    {
      "cell_type": "code",
      "metadata": {
        "id": "g57d11q75BKU",
        "colab_type": "code",
        "colab": {}
      },
      "source": [
        "def mean_db(db):\n",
        "  total = torch.sum(db.float())\n",
        "  return torch.div(total,len(db)).float()\n"
      ],
      "execution_count": 0,
      "outputs": []
    },
    {
      "cell_type": "code",
      "metadata": {
        "id": "jfZkjLYc5BKQ",
        "colab_type": "code",
        "outputId": "728a1350-a192-4d92-f80c-5361b701060d",
        "colab": {
          "base_uri": "https://localhost:8080/",
          "height": 121
        }
      },
      "source": [
        "db = create_db(10) # try this project here!\n",
        "print(db)\n",
        "adb1 = create_db(10)\n",
        "print(adb1)\n",
        "adb2 = create_db(10)\n",
        "print(adb2)\n",
        "\n",
        "augdb1 = noise(db,adb1)\n",
        "\n",
        "print(augdb1)\n",
        "\n",
        "\n",
        "mean_value_db = mean_db(db)\n",
        "mean_value_adb1 = mean_db(adb1)\n",
        "\n",
        "print (\"Original db value: \",mean_value_db)\n",
        "print (\"aug 1 db value: \",(mean_value_db-0.25)/0.5)"
      ],
      "execution_count": 0,
      "outputs": [
        {
          "output_type": "stream",
          "text": [
            "tensor([1, 0, 1, 0, 1, 0, 1, 0, 0, 0], dtype=torch.uint8)\n",
            "tensor([1, 1, 0, 1, 1, 0, 0, 0, 1, 0], dtype=torch.uint8)\n",
            "tensor([1, 1, 1, 0, 0, 1, 0, 1, 1, 0], dtype=torch.uint8)\n",
            "tensor([0, 1, 1, 0, 1, 0, 0, 0, 0, 0], dtype=torch.uint8)\n",
            "Original db value:  tensor(0.4000)\n",
            "aug 1 db value:  tensor(0.3000)\n"
          ],
          "name": "stdout"
        }
      ]
    },
    {
      "cell_type": "code",
      "metadata": {
        "id": "mUkzuX8p5BKV",
        "colab_type": "code",
        "outputId": "76d0d41f-0519-4cd8-e55a-8b2ca0658f95",
        "colab": {
          "base_uri": "https://localhost:8080/",
          "height": 69
        }
      },
      "source": [
        "db = create_db(100) # try this project here!\n",
        "adb1 = create_db(100)\n",
        "adb2 = create_db(100)\n",
        "\n",
        "augdb1 = noise(db,adb1)\n",
        "augdb2 = noise(db,adb2)\n",
        "\n",
        "mean_value_db = mean_db(db)\n",
        "mean_value_adb1 = mean_db(adb1)\n",
        "mean_value_adb2 = mean_db(adb2)\n",
        "\n",
        "print (\"Original db value: \",mean_value_db)\n",
        "print (\"aug 1 db value: \",(mean_value_adb1-0.25)/0.5)\n",
        "print (\"aug 2 db value: \",(mean_value_adb2-0.25)/0.5)"
      ],
      "execution_count": 0,
      "outputs": [
        {
          "output_type": "stream",
          "text": [
            "Original db value:  tensor(0.5000)\n",
            "aug 1 db value:  tensor(0.5200)\n",
            "aug 2 db value:  tensor(0.4400)\n"
          ],
          "name": "stdout"
        }
      ]
    },
    {
      "cell_type": "code",
      "metadata": {
        "id": "SocgvjGL5BKW",
        "colab_type": "code",
        "outputId": "a149750e-ddfa-47a9-b021-d5794b8fabdf",
        "colab": {
          "base_uri": "https://localhost:8080/",
          "height": 69
        }
      },
      "source": [
        "db = create_db(1000) # try this project here!\n",
        "adb1 = create_db(1000)\n",
        "adb2 = create_db(1000)\n",
        "\n",
        "augdb1 = noise(db,adb1)\n",
        "augdb2 = noise(db,adb2)\n",
        "\n",
        "mean_value_db = mean_db(db)\n",
        "mean_value_adb1 = mean_db(adb1)\n",
        "mean_value_adb2 = mean_db(adb2)\n",
        "\n",
        "print (\"Original db value: \",mean_value_db)\n",
        "print (\"aug 1 db value: \",(mean_value_adb1-0.25)/0.5)\n",
        "print (\"aug 2 db value: \",(mean_value_adb2-0.25)/0.5)"
      ],
      "execution_count": 0,
      "outputs": [
        {
          "output_type": "stream",
          "text": [
            "Original db value:  tensor(0.5110)\n",
            "aug 1 db value:  tensor(0.5260)\n",
            "aug 2 db value:  tensor(0.4960)\n"
          ],
          "name": "stdout"
        }
      ]
    },
    {
      "cell_type": "code",
      "metadata": {
        "id": "Cn6w6-go5BKX",
        "colab_type": "code",
        "outputId": "ab8c4464-44d4-4c2e-8122-fab38c231a10",
        "colab": {
          "base_uri": "https://localhost:8080/",
          "height": 69
        }
      },
      "source": [
        "db = create_db(10000) # try this project here!\n",
        "adb1 = create_db(10000)\n",
        "adb2 = create_db(10000)\n",
        "\n",
        "augdb1 = noise(db,adb1)\n",
        "augdb2 = noise(db,adb2)\n",
        "\n",
        "mean_value_db = mean_db(db)\n",
        "mean_value_adb1 = mean_db(adb1)\n",
        "mean_value_adb2 = mean_db(adb2)\n",
        "\n",
        "print (\"Original db value: \",mean_value_db)\n",
        "print (\"aug 1 db value: \",(mean_value_adb1-0.25)/0.5)\n",
        "print (\"aug 2 db value: \",(mean_value_adb2-0.25)/0.5)\n"
      ],
      "execution_count": 0,
      "outputs": [
        {
          "output_type": "stream",
          "text": [
            "Original db value:  tensor(0.5030)\n",
            "aug 1 db value:  tensor(0.5182)\n",
            "aug 2 db value:  tensor(0.5112)\n"
          ],
          "name": "stdout"
        }
      ]
    },
    {
      "cell_type": "code",
      "metadata": {
        "id": "1DQMqP9b5BKZ",
        "colab_type": "code",
        "outputId": "f95659af-3e67-4222-f2d1-426e4642facb",
        "colab": {
          "base_uri": "https://localhost:8080/",
          "height": 69
        }
      },
      "source": [
        "db = create_db(1000000) # try this project here!\n",
        "adb1 = create_db(1000000)\n",
        "adb2 = create_db(1000000)\n",
        "\n",
        "augdb1 = noise(db,adb1)\n",
        "augdb2 = noise(db,adb2)\n",
        "\n",
        "mean_value_db = mean_db(db)\n",
        "mean_value_adb1 = mean_db(adb1)\n",
        "mean_value_adb2 = mean_db(adb2)\n",
        "\n",
        "print (\"Original db value: \",mean_value_db)\n",
        "print (\"aug 1 db value: \",(mean_value_adb1-0.25)/0.5)\n",
        "print (\"aug 2 db value: \",(mean_value_adb2-0.25)/0.5)"
      ],
      "execution_count": 0,
      "outputs": [
        {
          "output_type": "stream",
          "text": [
            "Original db value:  tensor(0.4999)\n",
            "aug 1 db value:  tensor(0.4981)\n",
            "aug 2 db value:  tensor(0.5001)\n"
          ],
          "name": "stdout"
        }
      ]
    },
    {
      "cell_type": "markdown",
      "metadata": {
        "id": "C-SgDHTp5BKd",
        "colab_type": "text"
      },
      "source": [
        "# Project: Varying Amounts of Noise\n",
        "\n",
        "In this project, I want you to augment the randomized response query (the one we just wrote) to allow for varying amounts of randomness to be added. Specifically, I want you to bias the coin flip to be higher or lower and then run the same experiment. \n",
        "\n",
        "Note - this one is a bit tricker than you might expect. You need to both adjust the likelihood of the first coin flip AND the de-skewing at the end (where we create the \"augmented_result\" variable)."
      ]
    },
    {
      "cell_type": "code",
      "metadata": {
        "id": "bkXFuIXY5BKf",
        "colab_type": "code",
        "colab": {}
      },
      "source": [
        "# recreate the sum query we created earlier\n",
        "\n",
        "def query(db):\n",
        "  return torch.sum(db.float())"
      ],
      "execution_count": 0,
      "outputs": []
    },
    {
      "cell_type": "code",
      "metadata": {
        "id": "Fr2RLoQ8YPoZ",
        "colab_type": "code",
        "colab": {}
      },
      "source": [
        "def meanquery(db):\n",
        "  return torch.mean(db.float())"
      ],
      "execution_count": 0,
      "outputs": []
    },
    {
      "cell_type": "code",
      "metadata": {
        "id": "py7xHeKE5BKe",
        "colab_type": "code",
        "colab": {}
      },
      "source": [
        "# define a function to calculate the sensitivity of a query\n",
        "def sensitivity(query, num_items,db,pdbs):\n",
        " \n",
        "  # query the db\n",
        "  db_result = query(db.float())\n",
        "  # return the value of sensitivity\n",
        "  # loop on each pdb in the pdbs and calculate its distance\n",
        "  # find the maximum distance <-- that's your sensitivity\n",
        " \n",
        "  sensitivity = 0\n",
        "  for i in pdbs:\n",
        "      pdb_result = query(i)\n",
        "      distance = db_result-pdb_result\n",
        "      if(distance>sensitivity):\n",
        "         sensitivity = distance\n",
        "\n",
        "  msensitivity = 0\n",
        "  for i in pdbs:\n",
        "      pdb_result = query(i)\n",
        "      distance = abs(db_result-pdb_result)\n",
        "      if(distance>msensitivity):\n",
        "         msensitivity = distance\n",
        "  return sensitivity,msensitivity\n",
        "\n"
      ],
      "execution_count": 0,
      "outputs": []
    },
    {
      "cell_type": "code",
      "metadata": {
        "id": "diHngK2cQ_lb",
        "colab_type": "code",
        "colab": {}
      },
      "source": [
        "def GDP(db,noise1,noise2):\n",
        "  r1 = query(db) + noise1.item()\n",
        "  r2 = meanquery(db) + noise2.item()\n",
        "  return r1,r2"
      ],
      "execution_count": 0,
      "outputs": []
    },
    {
      "cell_type": "code",
      "metadata": {
        "id": "Oj23lWlWOLaJ",
        "colab_type": "code",
        "colab": {}
      },
      "source": [
        "import numpy as np\n",
        "\n",
        "def cal(E,db,pdbs):\n",
        "  S1,S2 = sensitivity(query,1000,db,pdbs)\n",
        "  \n",
        "  B1 = S1.item()/E\n",
        "  noise1 = np.random.laplace(0,B1,1)\n",
        "  \n",
        "  B2 = S2.item()/E\n",
        "  noise2 = np.random.laplace(0,B2,1)\n",
        "  \n",
        "  return noise1,noise2\n",
        "  "
      ],
      "execution_count": 0,
      "outputs": []
    },
    {
      "cell_type": "code",
      "metadata": {
        "id": "b-LeFyjgORsK",
        "colab_type": "code",
        "outputId": "d57e6e2e-63f9-48de-ff16-ff374f719e9b",
        "colab": {
          "base_uri": "https://localhost:8080/",
          "height": 87
        }
      },
      "source": [
        "# generate the db and the pdbs\n",
        "db,pdbs = get_db_and_parallel(1000)\n",
        "  \n",
        "noise1,noise2 = cal(0.5,db,pdbs)\n",
        "\n",
        "sm = query(db)\n",
        "\n",
        "mean = meanquery(db)\n",
        "\n",
        "res, meanres = GDP(db,noise1,noise2)\n",
        "\n",
        "print(\"The original Sum value of the DB:\",sm.item())\n",
        "\n",
        "print(\"The Sum value after adding noise:\",res.item())\n",
        "\n",
        "print(\"The original Sum value of the DB:\",mean.item())\n",
        "\n",
        "print(\"The Sum value after adding noise:\",meanres.item())"
      ],
      "execution_count": 0,
      "outputs": [
        {
          "output_type": "stream",
          "text": [
            "The original Sum value of the DB: 488.0\n",
            "The Sum value after adding noise: 486.4425048828125\n",
            "The original Sum value of the DB: 0.4880000054836273\n",
            "The Sum value after adding noise: -7.506553649902344\n"
          ],
          "name": "stdout"
        }
      ]
    },
    {
      "cell_type": "code",
      "metadata": {
        "id": "r7Q7_0wt5BKi",
        "colab_type": "code",
        "outputId": "7fe5138f-f90f-44b8-ee8a-f6fb55af2fa1",
        "colab": {
          "base_uri": "https://localhost:8080/",
          "height": 87
        }
      },
      "source": [
        "noise1,noise2 = cal(0.05,db,pdbs)\n",
        "\n",
        "sm = query(db)\n",
        "\n",
        "mean = meanquery(db)\n",
        "\n",
        "res, meanres = GDP(db,noise1,noise2)\n",
        "\n",
        "print(\"The original Sum value of the DB:\",sm.item())\n",
        "\n",
        "print(\"The Sum value after adding noise:\",res.item())\n",
        "\n",
        "print(\"The original Sum value of the DB:\",mean.item())\n",
        "\n",
        "print(\"The Sum value after adding noise:\",meanres.item())"
      ],
      "execution_count": 0,
      "outputs": [
        {
          "output_type": "stream",
          "text": [
            "The original Sum value of the DB: 488.0\n",
            "The Sum value after adding noise: 481.38836669921875\n",
            "The original Sum value of the DB: 0.4880000054836273\n",
            "The Sum value after adding noise: -22.28865623474121\n"
          ],
          "name": "stdout"
        }
      ]
    },
    {
      "cell_type": "code",
      "metadata": {
        "id": "nW2yJSJl5BKn",
        "colab_type": "code",
        "outputId": "4783d668-0105-42b5-86b8-b7d2a93c1d74",
        "colab": {
          "base_uri": "https://localhost:8080/",
          "height": 87
        }
      },
      "source": [
        "noise1,noise2 = cal(0.005,db,pdbs)\n",
        "\n",
        "sm = query(db)\n",
        "\n",
        "mean = meanquery(db)\n",
        "\n",
        "res, meanres = GDP(db,noise1,noise2)\n",
        "\n",
        "print(\"The original Sum value of the DB:\",sm.item())\n",
        "\n",
        "print(\"The Sum value after adding noise:\",res.item())\n",
        "\n",
        "print(\"The original Sum value of the DB:\",mean.item())\n",
        "\n",
        "print(\"The Sum value after adding noise:\",meanres.item())"
      ],
      "execution_count": 0,
      "outputs": [
        {
          "output_type": "stream",
          "text": [
            "The original Sum value of the DB: 488.0\n",
            "The Sum value after adding noise: 335.72735595703125\n",
            "The original Sum value of the DB: 0.4880000054836273\n",
            "The Sum value after adding noise: 616.7572631835938\n"
          ],
          "name": "stdout"
        }
      ]
    },
    {
      "cell_type": "code",
      "metadata": {
        "id": "1PW-E5fr5BKp",
        "colab_type": "code",
        "outputId": "cb8af4b0-ba74-4ea1-ccfa-16d2fdc12379",
        "colab": {
          "base_uri": "https://localhost:8080/",
          "height": 87
        }
      },
      "source": [
        "noise1,noise2 = cal(0.0005,db,pdbs)\n",
        "\n",
        "sm = query(db)\n",
        "\n",
        "mean = meanquery(db)\n",
        "\n",
        "res, meanres = GDP(db,noise1,noise2)\n",
        "\n",
        "print(\"The original Sum value of the DB:\",sm.item())\n",
        "\n",
        "print(\"The Sum value after adding noise:\",res.item())\n",
        "\n",
        "print(\"The original Sum value of the DB:\",mean.item())\n",
        "\n",
        "print(\"The Sum value after adding noise:\",meanres.item())"
      ],
      "execution_count": 0,
      "outputs": [
        {
          "output_type": "stream",
          "text": [
            "The original Sum value of the DB: 488.0\n",
            "The Sum value after adding noise: 1650.3331298828125\n",
            "The original Sum value of the DB: 0.4880000054836273\n",
            "The Sum value after adding noise: 402.154541015625\n"
          ],
          "name": "stdout"
        }
      ]
    },
    {
      "cell_type": "code",
      "metadata": {
        "id": "J3RkGQHB5BKq",
        "colab_type": "code",
        "colab": {}
      },
      "source": [
        ""
      ],
      "execution_count": 0,
      "outputs": []
    },
    {
      "cell_type": "code",
      "metadata": {
        "id": "wbL6I-o_5BKt",
        "colab_type": "code",
        "colab": {}
      },
      "source": [
        ""
      ],
      "execution_count": 0,
      "outputs": []
    },
    {
      "cell_type": "code",
      "metadata": {
        "id": "p4jnIgi65BKv",
        "colab_type": "code",
        "colab": {}
      },
      "source": [
        ""
      ],
      "execution_count": 0,
      "outputs": []
    },
    {
      "cell_type": "code",
      "metadata": {
        "id": "acMUugJ-5BKx",
        "colab_type": "code",
        "colab": {}
      },
      "source": [
        ""
      ],
      "execution_count": 0,
      "outputs": []
    },
    {
      "cell_type": "markdown",
      "metadata": {
        "id": "EuiU5Q4B5BKy",
        "colab_type": "text"
      },
      "source": [
        "# Lesson: The Formal Definition of Differential Privacy\n",
        "\n",
        "The previous method of adding noise was called \"Local Differentail Privacy\" because we added noise to each datapoint individually. This is necessary for some situations wherein the data is SO sensitive that individuals do not trust noise to be added later. However, it comes at a very high cost in terms of accuracy. \n",
        "\n",
        "However, alternatively we can add noise AFTER data has been aggregated by a function. This kind of noise can allow for similar levels of protection with a lower affect on accuracy. However, participants must be able to trust that no-one looked at their datapoints _before_ the aggregation took place. In some situations this works out well, in others (such as an individual hand-surveying a group of people), this is less realistic.\n",
        "\n",
        "Nevertheless, global differential privacy is incredibly important because it allows us to perform differential privacy on smaller groups of individuals with lower amounts of noise. Let's revisit our sum functions."
      ]
    },
    {
      "cell_type": "code",
      "metadata": {
        "id": "yNQs1VWV5BKz",
        "colab_type": "code",
        "colab": {}
      },
      "source": [
        "db, pdbs = create_db_and_parallels(100)\n",
        "\n",
        "def query(db):\n",
        "    return torch.sum(db.float())\n",
        "\n",
        "def M(db):\n",
        "    query(db) + noise\n",
        "\n",
        "query(db)"
      ],
      "execution_count": 0,
      "outputs": []
    },
    {
      "cell_type": "markdown",
      "metadata": {
        "id": "spyNhiCd5BK0",
        "colab_type": "text"
      },
      "source": [
        "So the idea here is that we want to add noise to the output of our function. We actually have two different kinds of noise we can add - Laplacian Noise or Gaussian Noise. However, before we do so at this point we need to dive into the formal definition of Differential Privacy.\n",
        "\n",
        "![alt text](dp_formula.png \"Title\")"
      ]
    },
    {
      "cell_type": "markdown",
      "metadata": {
        "id": "wdNKR7f_5BK1",
        "colab_type": "text"
      },
      "source": [
        "_Image From: \"The Algorithmic Foundations of Differential Privacy\" - Cynthia Dwork and Aaron Roth - https://www.cis.upenn.edu/~aaroth/Papers/privacybook.pdf_"
      ]
    },
    {
      "cell_type": "markdown",
      "metadata": {
        "id": "K9h85ktU5BK1",
        "colab_type": "text"
      },
      "source": [
        "This definition does not _create_ differential privacy, instead it is a measure of how much privacy is afforded by a query M. Specifically, it's a comparison between running the query M on a database (x) and a parallel database (y). As you remember, parallel databases are defined to be the same as a full database (x) with one entry/person removed.\n",
        "\n",
        "Thus, this definition says that FOR ALL parallel databases, the maximum distance between a query on database (x) and the same query on database (y) will be e^epsilon, but that occasionally this constraint won't hold with probability delta. Thus, this theorem is called \"epsilon delta\" differential privacy.\n",
        "\n",
        "# Epsilon\n",
        "\n",
        "Let's unpack the intuition of this for a moment. \n",
        "\n",
        "Epsilon Zero: If a query satisfied this inequality where epsilon was set to 0, then that would mean that the query for all parallel databases outputed the exact same value as the full database. As you may remember, when we calculated the \"threshold\" function, often the Sensitivity was 0. In that case, the epsilon also happened to be zero.\n",
        "\n",
        "Epsilon One: If a query satisfied this inequality with epsilon 1, then the maximum distance between all queries would be 1 - or more precisely - the maximum distance between the two random distributions M(x) and M(y) is 1 (because all these queries have some amount of randomness in them, just like we observed in the last section).\n",
        "\n",
        "# Delta\n",
        "\n",
        "Delta is basically the probability that epsilon breaks. Namely, sometimes the epsilon is different for some queries than it is for others. For example, you may remember when we were calculating the sensitivity of threshold, most of the time sensitivity was 0 but sometimes it was 1. Thus, we could calculate this as \"epsilon zero but non-zero delta\" which would say that epsilon is perfect except for some probability of the time when it's arbitrarily higher. Note that this expression doesn't represent the full tradeoff between epsilon and delta."
      ]
    },
    {
      "cell_type": "markdown",
      "metadata": {
        "id": "MV12MsPI5BK1",
        "colab_type": "text"
      },
      "source": [
        "# Lesson: How To Add Noise for Global Differential Privacy\n",
        "\n",
        "In this lesson, we're going to learn about how to take a query and add varying amounts of noise so that it satisfies a certain degree of differential privacy. In particular, we're going to leave behind the Local Differential privacy previously discussed and instead opt to focus on Global differential privacy. \n",
        "\n",
        "So, to sum up, this lesson is about adding noise to the output of our query so that it satisfies a certain epsilon-delta differential privacy threshold.\n",
        "\n",
        "There are two kinds of noise we can add - Gaussian Noise or Laplacian Noise. Generally speaking Laplacian is better, but both are still valid. Now to the hard question...\n",
        "\n",
        "### How much noise should we add?\n",
        "\n",
        "The amount of noise necessary to add to the output of a query is a function of four things:\n",
        "\n",
        "- the type of noise (Gaussian/Laplacian)\n",
        "- the sensitivity of the query/function\n",
        "- the desired epsilon (ε)\n",
        "- the desired delta (δ)\n",
        "\n",
        "Thus, for each type of noise we're adding, we have different way of calculating how much to add as a function of sensitivity, epsilon, and delta. We're going to focus on Laplacian noise. Laplacian noise is increased/decreased according to a \"scale\" parameter b. We choose \"b\" based on the following formula.\n",
        "\n",
        "b = sensitivity(query) / epsilon\n",
        "\n",
        "In other words, if we set b to be this value, then we know that we will have a privacy leakage of <= epsilon. Furthermore, the nice thing about Laplace is that it guarantees this with delta == 0. There are some tunings where we can have very low epsilon where delta is non-zero, but we'll ignore them for now.\n",
        "\n",
        "### Querying Repeatedly\n",
        "\n",
        "- if we query the database multiple times - we can simply add the epsilons (Even if we change the amount of noise and their epsilons are not the same)."
      ]
    },
    {
      "cell_type": "code",
      "metadata": {
        "id": "hRcJfnp45BK2",
        "colab_type": "code",
        "colab": {}
      },
      "source": [
        ""
      ],
      "execution_count": 0,
      "outputs": []
    },
    {
      "cell_type": "markdown",
      "metadata": {
        "id": "x8r7HiI25BK2",
        "colab_type": "text"
      },
      "source": [
        "# Project: Create a Differentially Private Query\n",
        "\n",
        "In this project, I want you to take what you learned in the previous lesson and create a query function which sums over the database and adds just the right amount of noise such that it satisfies an epsilon constraint. Write a query for both \"sum\" and for \"mean\". Ensure that you use the correct sensitivity measures for both."
      ]
    },
    {
      "cell_type": "code",
      "metadata": {
        "id": "TaFnnkFg5BK3",
        "colab_type": "code",
        "colab": {}
      },
      "source": [
        "# try this project here!"
      ],
      "execution_count": 0,
      "outputs": []
    },
    {
      "cell_type": "code",
      "metadata": {
        "id": "9LlDtc0b5BK5",
        "colab_type": "code",
        "colab": {}
      },
      "source": [
        ""
      ],
      "execution_count": 0,
      "outputs": []
    },
    {
      "cell_type": "code",
      "metadata": {
        "id": "DiyjnaXm5BK6",
        "colab_type": "code",
        "colab": {}
      },
      "source": [
        ""
      ],
      "execution_count": 0,
      "outputs": []
    },
    {
      "cell_type": "code",
      "metadata": {
        "id": "cqJSW-n-5BK7",
        "colab_type": "code",
        "colab": {}
      },
      "source": [
        ""
      ],
      "execution_count": 0,
      "outputs": []
    },
    {
      "cell_type": "code",
      "metadata": {
        "id": "XiPXzxWH5BK8",
        "colab_type": "code",
        "colab": {}
      },
      "source": [
        ""
      ],
      "execution_count": 0,
      "outputs": []
    },
    {
      "cell_type": "code",
      "metadata": {
        "id": "Mkvlk72r5BK9",
        "colab_type": "code",
        "colab": {}
      },
      "source": [
        ""
      ],
      "execution_count": 0,
      "outputs": []
    },
    {
      "cell_type": "code",
      "metadata": {
        "id": "PXqd5HNZ5BK-",
        "colab_type": "code",
        "colab": {}
      },
      "source": [
        ""
      ],
      "execution_count": 0,
      "outputs": []
    },
    {
      "cell_type": "code",
      "metadata": {
        "id": "xZK2hA8U5BK_",
        "colab_type": "code",
        "colab": {}
      },
      "source": [
        ""
      ],
      "execution_count": 0,
      "outputs": []
    },
    {
      "cell_type": "code",
      "metadata": {
        "id": "sH0DVicA5BLA",
        "colab_type": "code",
        "colab": {}
      },
      "source": [
        ""
      ],
      "execution_count": 0,
      "outputs": []
    },
    {
      "cell_type": "markdown",
      "metadata": {
        "id": "JFrUdcRH5BLB",
        "colab_type": "text"
      },
      "source": [
        "# Lesson: Differential Privacy for Deep Learning\n",
        "\n",
        "So in the last lessons you may have been wondering - what does all of this have to do with Deep Learning? Well, these same techniques we were just studying form the core primitives for how Differential Privacy provides guarantees in the context of Deep Learning. \n",
        "\n",
        "Previously, we defined perfect privacy as \"a query to a database returns the same value even if we remove any person from the database\", and used this intuition in the description of epsilon/delta. In the context of deep learning we have a similar standard.\n",
        "\n",
        "Training a model on a dataset should return the same model even if we remove any person from the dataset.\n",
        "\n",
        "Thus, we've replaced \"querying a database\" with \"training a model on a dataset\". In essence, the training process is a kind of query. However, one should note that this adds two points of complexity which database queries did not have:\n",
        "\n",
        "    1. do we always know where \"people\" are referenced in the dataset?\n",
        "    2. neural models rarely never train to the same output model, even on identical data\n",
        "\n",
        "The answer to (1) is to treat each training example as a single, separate person. Strictly speaking, this is often overly zealous as some training examples have no relevance to people and others may have multiple/partial (consider an image with multiple people contained within it). Thus, localizing exactly where \"people\" are referenced, and thus how much your model would change if people were removed, is challenging.\n",
        "\n",
        "The answer to (2) is also an open problem - but several interesitng proposals have been made. We're going to focus on one of the most popular proposals, PATE.\n",
        "\n",
        "## An Example Scenario: A Health Neural Network\n",
        "\n",
        "First we're going to consider a scenario - you work for a hospital and you have a large collection of images about your patients. However, you don't know what's in them. You would like to use these images to develop a neural network which can automatically classify them, however since your images aren't labeled, they aren't sufficient to train a classifier. \n",
        "\n",
        "However, being a cunning strategist, you realize that you can reach out to 10 partner hospitals which DO have annotated data. It is your hope to train your new classifier on their datasets so that you can automatically label your own. While these hospitals are interested in helping, they have privacy concerns regarding information about their patients. Thus, you will use the following technique to train a classifier which protects the privacy of patients in the other hospitals.\n",
        "\n",
        "- 1) You'll ask each of the 10 hospitals to train a model on their own datasets (All of which have the same kinds of labels)\n",
        "- 2) You'll then use each of the 10 partner models to predict on your local dataset, generating 10 labels for each of your datapoints\n",
        "- 3) Then, for each local data point (now with 10 labels), you will perform a DP query to generate the final true label. This query is a \"max\" function, where \"max\" is the most frequent label across the 10 labels. We will need to add laplacian noise to make this Differentially Private to a certain epsilon/delta constraint.\n",
        "- 4) Finally, we will retrain a new model on our local dataset which now has labels. This will be our final \"DP\" model.\n",
        "\n",
        "So, let's walk through these steps. I will assume you're already familiar with how to train/predict a deep neural network, so we'll skip steps 1 and 2 and work with example data. We'll focus instead on step 3, namely how to perform the DP query for each example using toy data.\n",
        "\n",
        "So, let's say we have 10,000 training examples, and we've got 10 labels for each example (from our 10 \"teacher models\" which were trained directly on private data). Each label is chosen from a set of 10 possible labels (categories) for each image."
      ]
    },
    {
      "cell_type": "code",
      "metadata": {
        "id": "pPYsz4z55BLC",
        "colab_type": "code",
        "colab": {}
      },
      "source": [
        "import numpy as np\n",
        "import torch"
      ],
      "execution_count": 0,
      "outputs": []
    },
    {
      "cell_type": "code",
      "metadata": {
        "id": "3TAxH0ZV5BLE",
        "colab_type": "code",
        "colab": {}
      },
      "source": [
        "num_teachers = 10 # we're working with 10 partner hospitals\n",
        "num_examples = 10000 # the size of OUR dataset\n",
        "num_labels = 10 # number of lablels for our classifier"
      ],
      "execution_count": 0,
      "outputs": []
    },
    {
      "cell_type": "code",
      "metadata": {
        "id": "e3pfLJQ-5BLG",
        "colab_type": "code",
        "colab": {}
      },
      "source": [
        "preds = (np.random.rand(num_teachers, num_examples) * num_labels).astype(int).transpose(1,0) # fake predictions"
      ],
      "execution_count": 0,
      "outputs": []
    },
    {
      "cell_type": "code",
      "metadata": {
        "id": "wFuDaRNV1vvV",
        "colab_type": "code",
        "colab": {
          "base_uri": "https://localhost:8080/",
          "height": 122
        },
        "outputId": "ad711e31-0d63-4584-c6bd-25ddee2721a6"
      },
      "source": [
        "print(f'Actua: {preds[0:,0]}')\n",
        "      \n",
        "a = np.bincount(preds[:,0],minlength=10)\n",
        "\n",
        "print(f'Counts:{a}')\n",
        "print(f'Max: {np.argmax(a)}')      \n",
        "\n",
        "B = torch.rand(1) >0.5\n",
        "print(B)\n",
        "noisy_count = a + np.random.laplace(0,B, 1)\n",
        "      \n",
        "print(f'Max with noise: {noisy_count}')\n",
        "print(f'Max: {np.argmax(noisy_count)}')"
      ],
      "execution_count": 14,
      "outputs": [
        {
          "output_type": "stream",
          "text": [
            "Actua: [8 6 9 ... 8 1 4]\n",
            "Counts:[1000 1007  956 1005  977  990  983 1067 1014 1001]\n",
            "Max: 7\n",
            "tensor([0], dtype=torch.uint8)\n",
            "Max with noise: [1000. 1007.  956. 1005.  977.  990.  983. 1067. 1014. 1001.]\n",
            "Max: 7\n"
          ],
          "name": "stdout"
        }
      ]
    },
    {
      "cell_type": "code",
      "metadata": {
        "id": "tbBANFve5BLJ",
        "colab_type": "code",
        "colab": {}
      },
      "source": [
        "new_labels = list()\n",
        "for an_image in preds:\n",
        "\n",
        "    label_counts = np.bincount(an_image, minlength=num_labels)\n",
        "\n",
        "    epsilon = 0.1\n",
        "    beta = 1 / epsilon\n",
        "\n",
        "    for i in range(len(label_counts)):\n",
        "        label_counts[i] += np.random.laplace(0, beta, 1)\n",
        "\n",
        "    new_label = np.argmax(label_counts)\n",
        "    \n",
        "    new_labels.append(new_label)"
      ],
      "execution_count": 0,
      "outputs": []
    },
    {
      "cell_type": "code",
      "metadata": {
        "id": "G5PXxwIsaHdm",
        "colab_type": "code",
        "colab": {}
      },
      "source": [
        ""
      ],
      "execution_count": 0,
      "outputs": []
    },
    {
      "cell_type": "code",
      "metadata": {
        "id": "ilgSYTTG5BLK",
        "colab_type": "code",
        "colab": {
          "base_uri": "https://localhost:8080/",
          "height": 72
        },
        "outputId": "38fd62b7-37b3-4dca-b71d-f7e49592ed3d"
      },
      "source": [
        "print(f'New Labels: ',(new_labels))\n",
        "print(f'Max: {np.argmax(new_labels)}')\n"
      ],
      "execution_count": 18,
      "outputs": [
        {
          "output_type": "stream",
          "text": [
            "New Labels:  [2, 5, 6, 3, 5, 2, 4, 5, 3, 9, 3, 6, 9, 9, 8, 2, 8, 9, 9, 3, 6, 1, 3, 2, 6, 3, 2, 2, 7, 2, 4, 8, 9, 8, 3, 8, 9, 6, 9, 6, 2, 4, 4, 4, 4, 5, 9, 0, 2, 9, 2, 0, 9, 8, 7, 7, 4, 1, 3, 3, 8, 4, 5, 1, 0, 8, 4, 2, 7, 9, 7, 1, 5, 5, 9, 3, 7, 5, 3, 6, 6, 2, 3, 8, 1, 2, 5, 4, 3, 1, 2, 1, 4, 1, 1, 5, 3, 7, 0, 3, 2, 9, 7, 0, 8, 0, 4, 7, 8, 7, 8, 4, 1, 1, 2, 4, 0, 4, 7, 4, 8, 7, 6, 9, 0, 0, 0, 6, 0, 3, 8, 3, 9, 7, 9, 7, 6, 0, 3, 5, 9, 7, 8, 2, 2, 2, 5, 5, 6, 9, 2, 8, 1, 0, 2, 4, 6, 9, 0, 0, 6, 1, 9, 0, 1, 6, 4, 1, 5, 0, 1, 8, 2, 2, 9, 7, 5, 4, 1, 8, 5, 1, 8, 8, 2, 3, 6, 8, 9, 0, 3, 6, 7, 9, 2, 6, 9, 5, 5, 3, 0, 4, 2, 0, 4, 0, 9, 7, 3, 3, 1, 3, 3, 1, 1, 3, 9, 0, 0, 4, 6, 8, 9, 1, 0, 6, 3, 2, 0, 1, 1, 5, 6, 0, 7, 9, 4, 5, 8, 6, 2, 7, 7, 5, 6, 7, 9, 6, 5, 4, 4, 6, 5, 8, 1, 7, 6, 9, 9, 0, 6, 6, 1, 4, 3, 3, 8, 7, 7, 5, 3, 0, 3, 7, 6, 1, 4, 5, 9, 2, 7, 3, 7, 9, 0, 4, 2, 2, 8, 7, 7, 1, 0, 7, 9, 9, 7, 5, 1, 8, 4, 7, 4, 4, 8, 8, 2, 6, 6, 4, 6, 9, 0, 5, 1, 0, 3, 6, 5, 3, 8, 5, 1, 1, 1, 4, 2, 9, 9, 1, 1, 1, 0, 3, 3, 5, 0, 0, 6, 3, 2, 7, 2, 2, 2, 8, 2, 5, 9, 2, 8, 5, 6, 4, 7, 7, 2, 7, 3, 3, 5, 7, 2, 6, 7, 0, 0, 0, 6, 0, 4, 6, 6, 8, 0, 9, 2, 6, 4, 5, 5, 7, 8, 2, 1, 0, 0, 4, 5, 5, 0, 5, 2, 6, 7, 3, 6, 5, 9, 1, 8, 2, 8, 3, 6, 0, 6, 0, 0, 0, 8, 0, 1, 6, 0, 9, 2, 9, 2, 0, 5, 7, 8, 0, 4, 1, 3, 3, 8, 9, 4, 9, 1, 8, 1, 5, 2, 6, 4, 4, 5, 0, 7, 0, 4, 2, 5, 6, 6, 1, 9, 1, 4, 0, 6, 0, 0, 1, 9, 6, 6, 5, 7, 3, 0, 3, 4, 4, 1, 0, 7, 9, 6, 3, 5, 7, 3, 8, 5, 3, 4, 5, 8, 1, 0, 4, 6, 4, 5, 4, 3, 0, 3, 9, 9, 9, 2, 7, 3, 0, 5, 8, 8, 5, 8, 3, 7, 0, 0, 0, 8, 6, 6, 2, 3, 0, 3, 3, 9, 1, 4, 8, 4, 7, 7, 8, 5, 7, 6, 7, 1, 7, 4, 9, 0, 6, 7, 9, 6, 4, 0, 3, 9, 3, 2, 1, 2, 3, 8, 1, 2, 9, 5, 2, 3, 7, 8, 7, 1, 0, 2, 4, 2, 1, 8, 1, 3, 0, 2, 9, 2, 1, 8, 8, 8, 0, 9, 5, 8, 6, 9, 6, 2, 1, 1, 3, 0, 0, 0, 6, 4, 3, 2, 2, 1, 3, 1, 1, 4, 2, 8, 7, 2, 1, 4, 7, 0, 7, 5, 9, 9, 9, 1, 5, 5, 7, 7, 4, 0, 5, 7, 6, 3, 3, 1, 9, 3, 8, 3, 6, 5, 1, 0, 7, 0, 8, 0, 1, 4, 0, 0, 0, 3, 5, 3, 9, 2, 6, 1, 0, 2, 7, 9, 1, 9, 0, 9, 2, 9, 0, 0, 3, 2, 4, 5, 8, 0, 4, 0, 3, 7, 4, 0, 2, 9, 9, 3, 0, 1, 8, 7, 3, 7, 1, 1, 1, 5, 4, 7, 3, 6, 5, 8, 1, 0, 2, 4, 9, 1, 8, 0, 9, 5, 8, 9, 6, 3, 0, 2, 7, 7, 2, 1, 0, 6, 9, 4, 0, 4, 3, 7, 1, 9, 0, 7, 1, 1, 8, 5, 5, 5, 3, 7, 5, 6, 2, 2, 5, 0, 4, 2, 7, 9, 0, 8, 9, 3, 4, 7, 0, 8, 1, 1, 2, 6, 3, 5, 4, 6, 3, 7, 2, 2, 6, 4, 4, 8, 4, 3, 1, 6, 2, 3, 5, 0, 5, 3, 0, 9, 5, 0, 4, 4, 5, 8, 4, 9, 9, 2, 2, 9, 0, 0, 7, 1, 9, 1, 5, 4, 9, 1, 1, 5, 4, 6, 3, 8, 8, 5, 5, 2, 0, 0, 7, 6, 6, 4, 5, 4, 3, 6, 8, 7, 9, 4, 9, 0, 7, 2, 6, 8, 1, 0, 6, 7, 4, 1, 8, 9, 3, 9, 9, 2, 3, 1, 6, 1, 9, 1, 0, 1, 1, 0, 7, 9, 7, 4, 8, 7, 9, 1, 7, 9, 6, 4, 7, 3, 6, 4, 0, 9, 1, 2, 6, 6, 8, 4, 6, 7, 0, 4, 9, 6, 2, 8, 7, 6, 3, 9, 2, 4, 8, 7, 9, 5, 8, 5, 3, 9, 6, 3, 3, 0, 9, 4, 7, 5, 9, 9, 3, 1, 0, 6, 1, 2, 1, 5, 0, 7, 1, 9, 2, 7, 5, 6, 2, 4, 2, 0, 5, 6, 0, 4, 6, 0, 3, 7, 6, 5, 9, 5, 9, 7, 9, 3, 7, 7, 0, 9, 3, 5, 5, 5, 3, 1, 0, 6, 1, 5, 6, 8, 9, 7, 0, 3, 5, 0, 8, 0, 7, 9, 8, 2, 0, 9, 6, 3, 2, 3, 0, 0, 2, 7, 8, 2, 4, 4, 1, 4, 7, 4, 5, 1, 0, 0, 7, 5, 9, 1, 0, 6, 3, 7, 0, 4, 1, 2, 6, 9, 5, 1, 2, 2, 2, 6, 1, 5, 6, 3, 8, 9, 6, 5, 1, 9, 6, 8, 6, 6, 9, 3, 1, 8, 5, 1, 1, 6, 8, 4, 4, 6, 4, 9, 2, 1, 8, 4, 5, 9, 5, 9, 3, 1, 6, 3, 7, 8, 2, 2, 3, 6, 1, 9, 5, 6, 0, 2, 7, 8, 7, 2, 8, 4, 1, 9, 8, 8, 1, 4, 6, 3, 9, 2, 2, 7, 1, 6, 9, 4, 2, 9, 5, 2, 2, 8, 6, 2, 0, 3, 2, 7, 0, 6, 8, 5, 1, 0, 9, 3, 6, 1, 0, 1, 5, 8, 1, 0, 3, 8, 2, 4, 7, 7, 7, 2, 0, 5, 7, 2, 1, 3, 3, 4, 6, 7, 4, 3, 0, 5, 8, 7, 5, 4, 8, 3, 2, 8, 9, 9, 8, 4, 3, 1, 3, 4, 4, 8, 7, 9, 3, 0, 4, 8, 6, 4, 4, 7, 0, 0, 7, 2, 1, 8, 6, 3, 1, 9, 0, 4, 1, 5, 8, 2, 5, 8, 5, 2, 7, 4, 8, 8, 7, 5, 9, 8, 0, 9, 3, 6, 6, 8, 9, 3, 4, 9, 4, 0, 8, 2, 7, 6, 3, 3, 7, 0, 7, 5, 5, 8, 9, 3, 2, 4, 0, 0, 7, 4, 6, 5, 5, 9, 3, 7, 6, 4, 7, 0, 2, 0, 3, 5, 5, 3, 8, 9, 0, 4, 9, 9, 5, 0, 6, 4, 7, 3, 6, 0, 4, 9, 8, 5, 6, 2, 9, 6, 0, 7, 7, 7, 1, 3, 8, 2, 3, 9, 1, 0, 8, 3, 3, 2, 4, 8, 7, 1, 0, 9, 7, 0, 0, 8, 8, 5, 0, 0, 0, 8, 9, 3, 0, 4, 3, 9, 5, 6, 0, 3, 4, 5, 0, 2, 6, 2, 1, 6, 3, 1, 3, 5, 0, 9, 0, 4, 7, 5, 7, 6, 6, 0, 5, 8, 9, 0, 6, 1, 8, 0, 1, 4, 4, 9, 7, 3, 2, 0, 1, 4, 4, 3, 5, 8, 0, 1, 9, 1, 7, 2, 4, 1, 3, 6, 3, 2, 0, 9, 9, 2, 0, 6, 9, 5, 7, 5, 9, 6, 4, 4, 4, 9, 8, 4, 5, 6, 5, 1, 4, 2, 0, 9, 6, 3, 9, 0, 3, 8, 7, 1, 4, 2, 2, 8, 7, 1, 4, 3, 4, 2, 8, 9, 4, 5, 7, 1, 1, 2, 7, 6, 4, 2, 8, 0, 2, 2, 7, 1, 9, 0, 8, 3, 3, 1, 1, 6, 1, 6, 8, 7, 6, 6, 4, 3, 2, 5, 7, 0, 3, 3, 4, 2, 1, 2, 4, 0, 0, 2, 4, 2, 0, 9, 5, 5, 1, 0, 7, 9, 7, 6, 6, 4, 3, 0, 8, 6, 8, 0, 5, 4, 1, 8, 2, 2, 7, 5, 2, 7, 0, 1, 9, 0, 9, 5, 4, 0, 3, 3, 3, 7, 2, 0, 7, 9, 8, 2, 9, 2, 6, 1, 4, 0, 4, 0, 3, 1, 3, 5, 9, 4, 9, 1, 3, 0, 5, 6, 2, 9, 4, 0, 0, 4, 6, 3, 3, 2, 7, 4, 8, 9, 9, 9, 9, 4, 2, 5, 8, 1, 7, 1, 7, 6, 0, 4, 9, 8, 2, 4, 8, 4, 0, 2, 9, 0, 3, 1, 5, 5, 2, 2, 2, 5, 6, 9, 8, 7, 3, 4, 2, 2, 5, 8, 6, 7, 5, 1, 8, 5, 2, 8, 4, 3, 5, 8, 1, 3, 7, 6, 8, 5, 7, 4, 6, 3, 2, 0, 1, 4, 9, 1, 1, 4, 3, 7, 8, 3, 9, 9, 3, 3, 7, 0, 0, 3, 8, 3, 0, 2, 7, 1, 3, 8, 6, 9, 0, 0, 9, 6, 3, 7, 1, 3, 0, 4, 6, 8, 6, 6, 1, 7, 4, 1, 5, 6, 7, 6, 8, 5, 9, 9, 2, 4, 0, 1, 0, 0, 5, 6, 6, 6, 4, 6, 0, 2, 5, 7, 8, 9, 9, 6, 6, 4, 0, 9, 6, 9, 5, 5, 0, 9, 8, 0, 5, 1, 2, 3, 6, 8, 2, 4, 1, 9, 0, 0, 2, 1, 8, 8, 2, 2, 4, 8, 0, 6, 5, 5, 1, 5, 2, 1, 2, 3, 4, 3, 9, 0, 7, 6, 9, 8, 2, 6, 9, 0, 8, 1, 0, 1, 5, 1, 6, 8, 5, 6, 5, 2, 1, 1, 2, 1, 8, 7, 8, 7, 9, 9, 5, 1, 9, 0, 6, 3, 3, 8, 5, 5, 6, 9, 7, 9, 1, 6, 3, 7, 0, 5, 5, 2, 1, 4, 9, 4, 3, 2, 6, 2, 7, 2, 1, 2, 2, 7, 5, 4, 1, 5, 2, 9, 5, 5, 0, 5, 6, 1, 9, 7, 0, 4, 7, 8, 3, 5, 0, 7, 1, 2, 5, 1, 4, 2, 8, 7, 9, 6, 3, 3, 1, 5, 1, 3, 9, 8, 5, 3, 2, 1, 3, 8, 5, 3, 2, 8, 2, 5, 4, 1, 5, 4, 4, 9, 3, 4, 3, 1, 5, 9, 5, 6, 1, 8, 6, 8, 6, 9, 8, 7, 0, 6, 3, 3, 4, 8, 0, 1, 4, 8, 3, 4, 7, 3, 1, 4, 0, 5, 4, 9, 3, 0, 8, 0, 8, 1, 2, 5, 2, 7, 0, 2, 6, 8, 5, 1, 7, 3, 8, 5, 5, 9, 5, 1, 3, 9, 0, 6, 1, 9, 1, 1, 5, 4, 1, 9, 2, 0, 9, 4, 0, 9, 7, 0, 9, 7, 1, 1, 0, 4, 8, 8, 3, 3, 2, 6, 9, 8, 9, 3, 2, 0, 4, 3, 2, 5, 3, 0, 2, 5, 6, 6, 6, 5, 1, 4, 3, 1, 7, 5, 9, 2, 0, 8, 8, 9, 8, 9, 4, 0, 9, 7, 4, 1, 4, 8, 3, 0, 8, 9, 7, 2, 7, 9, 9, 8, 8, 7, 1, 7, 2, 8, 7, 9, 4, 4, 1, 6, 0, 2, 8, 3, 2, 0, 6, 9, 7, 8, 8, 4, 9, 5, 7, 7, 9, 4, 9, 3, 8, 0, 1, 5, 7, 2, 2, 3, 4, 8, 5, 8, 1, 2, 0, 0, 2, 0, 3, 5, 3, 0, 7, 2, 1, 0, 4, 6, 6, 4, 2, 9, 8, 4, 0, 7, 6, 7, 1, 2, 1, 4, 9, 1, 5, 6, 6, 2, 8, 7, 6, 3, 4, 6, 3, 2, 4, 8, 6, 7, 9, 7, 2, 3, 9, 1, 0, 6, 4, 4, 8, 9, 7, 9, 2, 8, 0, 0, 9, 0, 0, 5, 0, 6, 5, 3, 2, 8, 0, 8, 5, 6, 5, 6, 3, 0, 6, 1, 3, 7, 4, 4, 2, 5, 4, 7, 4, 2, 7, 2, 6, 3, 9, 6, 4, 1, 2, 1, 0, 5, 0, 1, 1, 8, 7, 2, 5, 8, 7, 6, 7, 6, 0, 8, 9, 7, 7, 7, 9, 5, 1, 1, 4, 6, 6, 7, 6, 2, 6, 5, 6, 1, 1, 1, 9, 2, 3, 2, 9, 7, 0, 9, 1, 5, 1, 6, 8, 0, 8, 8, 2, 6, 1, 6, 9, 3, 1, 6, 0, 3, 6, 8, 5, 4, 2, 7, 0, 6, 9, 6, 8, 6, 7, 2, 0, 0, 0, 9, 8, 4, 4, 9, 7, 8, 9, 2, 0, 1, 3, 8, 7, 6, 3, 0, 0, 5, 7, 0, 4, 6, 2, 8, 8, 6, 1, 3, 0, 0, 4, 7, 8, 9, 8, 6, 9, 4, 4, 6, 7, 9, 9, 7, 2, 9, 3, 7, 9, 0, 4, 3, 2, 6, 1, 6, 7, 0, 2, 6, 5, 5, 9, 5, 3, 1, 4, 3, 9, 5, 4, 0, 7, 5, 2, 8, 3, 5, 0, 5, 2, 7, 7, 6, 3, 9, 6, 0, 5, 5, 8, 3, 1, 7, 7, 1, 1, 9, 0, 7, 8, 4, 8, 2, 6, 1, 6, 0, 0, 6, 0, 9, 4, 4, 7, 2, 7, 2, 8, 0, 4, 0, 0, 1, 9, 4, 4, 2, 5, 0, 6, 4, 6, 0, 9, 8, 3, 3, 4, 7, 9, 1, 1, 1, 4, 5, 3, 6, 8, 0, 4, 2, 0, 2, 8, 4, 3, 6, 5, 7, 3, 3, 0, 2, 0, 4, 9, 0, 8, 7, 1, 7, 1, 8, 7, 2, 7, 5, 4, 9, 9, 7, 2, 3, 4, 3, 5, 0, 2, 0, 3, 9, 3, 0, 1, 1, 8, 3, 4, 8, 5, 2, 9, 5, 2, 0, 6, 0, 6, 1, 5, 3, 2, 5, 9, 8, 4, 5, 2, 3, 6, 0, 4, 0, 8, 4, 1, 6, 1, 4, 4, 7, 0, 3, 5, 7, 5, 0, 6, 4, 6, 7, 4, 6, 1, 1, 9, 9, 4, 0, 1, 5, 1, 1, 9, 5, 6, 9, 2, 3, 4, 4, 1, 8, 9, 5, 5, 0, 6, 0, 6, 5, 5, 1, 2, 7, 6, 9, 8, 6, 7, 4, 8, 9, 2, 7, 0, 6, 2, 4, 8, 2, 3, 0, 5, 6, 6, 8, 0, 5, 7, 8, 5, 1, 9, 3, 8, 5, 9, 6, 3, 8, 2, 9, 6, 5, 0, 5, 5, 1, 3, 8, 2, 7, 7, 2, 4, 4, 4, 7, 1, 0, 2, 4, 8, 6, 1, 2, 4, 0, 9, 7, 6, 7, 9, 3, 7, 5, 8, 3, 3, 8, 1, 3, 6, 0, 9, 3, 7, 7, 4, 0, 9, 1, 7, 4, 5, 7, 5, 6, 3, 9, 5, 7, 1, 6, 5, 1, 3, 0, 7, 7, 8, 3, 5, 6, 5, 5, 2, 7, 4, 4, 6, 8, 5, 3, 1, 7, 2, 5, 6, 1, 3, 8, 5, 9, 7, 4, 7, 0, 2, 3, 4, 6, 7, 8, 8, 8, 4, 6, 6, 5, 1, 8, 0, 1, 9, 7, 6, 2, 9, 3, 7, 8, 5, 5, 4, 7, 6, 6, 8, 8, 2, 4, 1, 4, 0, 9, 2, 8, 8, 8, 7, 4, 0, 1, 3, 9, 3, 8, 1, 2, 1, 4, 5, 3, 9, 1, 6, 9, 8, 4, 3, 2, 1, 7, 9, 9, 5, 9, 0, 7, 4, 9, 2, 1, 0, 2, 7, 3, 1, 6, 7, 3, 7, 3, 7, 9, 5, 8, 8, 7, 7, 3, 3, 3, 0, 1, 0, 6, 9, 0, 5, 3, 6, 7, 3, 7, 5, 8, 7, 9, 2, 7, 2, 7, 8, 0, 4, 6, 5, 4, 0, 4, 3, 6, 0, 3, 2, 6, 5, 1, 1, 3, 3, 8, 0, 7, 9, 5, 1, 3, 6, 1, 8, 7, 0, 3, 2, 5, 8, 5, 0, 5, 9, 0, 5, 4, 3, 1, 8, 4, 0, 5, 8, 8, 8, 7, 2, 1, 5, 4, 4, 2, 5, 2, 2, 8, 4, 1, 0, 5, 7, 2, 6, 3, 7, 4, 5, 6, 8, 6, 5, 8, 8, 4, 2, 9, 5, 2, 1, 2, 8, 2, 3, 3, 9, 9, 5, 4, 2, 3, 9, 8, 0, 4, 1, 6, 1, 8, 0, 5, 7, 6, 0, 2, 2, 6, 0, 9, 3, 8, 5, 6, 2, 8, 0, 6, 8, 8, 4, 1, 6, 1, 6, 2, 7, 2, 1, 1, 6, 7, 8, 8, 9, 1, 7, 4, 6, 5, 6, 3, 1, 1, 2, 5, 7, 8, 3, 4, 5, 3, 8, 2, 4, 1, 6, 4, 6, 5, 3, 2, 4, 7, 4, 9, 9, 1, 8, 0, 3, 9, 5, 6, 1, 2, 5, 7, 6, 7, 3, 0, 9, 0, 8, 5, 8, 2, 8, 2, 4, 1, 3, 5, 1, 0, 1, 3, 5, 4, 7, 8, 4, 1, 7, 4, 5, 1, 5, 5, 8, 5, 9, 5, 2, 2, 4, 5, 1, 0, 2, 3, 7, 8, 9, 8, 3, 9, 3, 0, 3, 4, 3, 1, 5, 9, 5, 3, 0, 6, 8, 1, 7, 9, 2, 0, 2, 9, 8, 2, 6, 1, 1, 2, 9, 6, 2, 9, 0, 6, 1, 5, 8, 8, 4, 0, 7, 9, 5, 4, 2, 6, 4, 3, 4, 6, 7, 9, 7, 8, 4, 6, 7, 7, 6, 4, 3, 1, 2, 4, 1, 2, 3, 9, 3, 6, 6, 0, 5, 0, 8, 2, 7, 5, 0, 9, 2, 0, 1, 2, 4, 8, 6, 6, 1, 5, 6, 1, 7, 0, 1, 7, 1, 4, 8, 1, 4, 3, 6, 9, 0, 9, 6, 7, 4, 3, 7, 9, 1, 3, 2, 8, 5, 5, 7, 9, 1, 8, 6, 0, 8, 9, 9, 4, 8, 0, 0, 1, 3, 4, 3, 4, 7, 1, 0, 8, 7, 9, 7, 2, 5, 5, 7, 9, 0, 8, 2, 4, 5, 4, 0, 4, 3, 6, 1, 8, 2, 5, 2, 2, 9, 6, 4, 9, 4, 7, 1, 0, 6, 5, 0, 9, 8, 3, 3, 9, 6, 9, 3, 5, 8, 3, 9, 1, 9, 4, 2, 4, 7, 9, 8, 6, 5, 8, 2, 6, 9, 2, 9, 8, 2, 3, 0, 2, 1, 0, 9, 9, 4, 0, 7, 1, 5, 1, 1, 7, 0, 5, 1, 7, 6, 2, 8, 0, 2, 6, 2, 5, 2, 1, 2, 8, 7, 1, 7, 4, 6, 1, 9, 3, 3, 0, 9, 1, 9, 0, 0, 9, 2, 4, 9, 1, 8, 2, 3, 6, 3, 1, 8, 9, 5, 3, 9, 9, 9, 9, 1, 1, 3, 4, 9, 2, 5, 1, 4, 0, 9, 3, 6, 9, 5, 5, 2, 3, 2, 1, 0, 1, 5, 0, 2, 2, 8, 8, 4, 1, 4, 1, 1, 1, 0, 0, 8, 8, 2, 0, 6, 1, 9, 5, 3, 2, 7, 8, 0, 1, 0, 1, 9, 9, 8, 1, 4, 6, 4, 1, 5, 2, 1, 9, 5, 3, 0, 0, 8, 5, 5, 7, 3, 3, 6, 4, 0, 5, 0, 1, 9, 3, 1, 9, 6, 4, 4, 3, 9, 4, 1, 3, 6, 9, 1, 5, 0, 6, 8, 6, 3, 3, 9, 9, 6, 4, 9, 7, 5, 8, 7, 1, 2, 4, 9, 9, 0, 0, 8, 9, 4, 0, 4, 5, 7, 1, 4, 7, 8, 1, 8, 2, 8, 7, 7, 6, 4, 3, 2, 3, 0, 8, 2, 9, 2, 5, 1, 1, 7, 1, 6, 4, 7, 2, 7, 6, 3, 7, 4, 0, 3, 9, 2, 1, 3, 2, 7, 3, 9, 4, 5, 6, 6, 0, 9, 1, 5, 0, 8, 5, 6, 0, 2, 8, 6, 6, 9, 8, 0, 1, 9, 2, 1, 5, 5, 0, 2, 1, 3, 6, 3, 2, 9, 9, 7, 5, 8, 4, 7, 4, 1, 5, 5, 3, 3, 4, 3, 9, 4, 0, 6, 4, 7, 1, 4, 4, 8, 8, 0, 7, 8, 0, 6, 1, 2, 0, 2, 6, 3, 8, 8, 5, 5, 0, 9, 8, 0, 1, 6, 7, 6, 1, 1, 8, 2, 4, 4, 3, 7, 8, 8, 3, 7, 9, 2, 9, 6, 7, 5, 5, 3, 3, 7, 4, 2, 3, 2, 5, 9, 3, 0, 4, 8, 1, 1, 4, 4, 2, 8, 5, 5, 6, 6, 2, 4, 7, 7, 3, 5, 9, 9, 6, 6, 9, 4, 9, 5, 0, 1, 9, 4, 0, 7, 1, 0, 2, 4, 5, 7, 2, 4, 8, 1, 7, 5, 8, 4, 9, 2, 5, 5, 1, 0, 9, 9, 8, 4, 5, 8, 3, 0, 9, 5, 0, 9, 3, 9, 9, 4, 7, 6, 7, 2, 1, 5, 0, 5, 2, 8, 6, 5, 7, 1, 3, 1, 6, 3, 8, 8, 0, 2, 0, 4, 2, 1, 9, 2, 8, 7, 5, 9, 3, 2, 4, 8, 8, 4, 3, 2, 8, 2, 1, 1, 2, 7, 6, 1, 5, 9, 7, 2, 9, 7, 0, 3, 5, 5, 3, 4, 2, 3, 8, 0, 0, 9, 3, 3, 0, 1, 7, 2, 6, 7, 0, 7, 8, 0, 9, 3, 8, 5, 8, 3, 5, 1, 3, 4, 7, 4, 7, 1, 3, 0, 4, 7, 8, 2, 6, 3, 4, 3, 0, 6, 1, 8, 0, 0, 4, 3, 0, 1, 0, 9, 0, 7, 9, 7, 6, 1, 2, 3, 7, 0, 4, 2, 0, 2, 2, 9, 3, 8, 6, 2, 6, 9, 3, 6, 1, 4, 3, 8, 9, 1, 5, 2, 7, 9, 3, 5, 1, 9, 5, 6, 7, 3, 9, 4, 1, 2, 0, 6, 5, 5, 9, 2, 6, 7, 9, 0, 1, 8, 2, 8, 3, 9, 9, 5, 2, 9, 6, 5, 4, 0, 8, 1, 6, 4, 2, 0, 7, 7, 5, 2, 8, 6, 4, 0, 7, 3, 2, 8, 9, 9, 5, 3, 0, 4, 0, 0, 7, 3, 9, 3, 7, 2, 1, 0, 0, 7, 5, 9, 9, 9, 7, 1, 5, 0, 8, 6, 8, 2, 7, 9, 2, 4, 6, 6, 6, 4, 5, 7, 0, 5, 1, 8, 6, 3, 2, 3, 3, 5, 0, 7, 8, 3, 3, 3, 1, 5, 8, 9, 1, 3, 4, 6, 4, 1, 7, 5, 4, 1, 7, 5, 2, 9, 1, 4, 6, 8, 7, 4, 3, 5, 5, 0, 6, 8, 7, 4, 3, 0, 2, 2, 1, 4, 1, 0, 1, 2, 8, 6, 5, 7, 3, 4, 4, 8, 8, 7, 5, 2, 7, 7, 0, 4, 6, 1, 6, 2, 2, 3, 9, 5, 3, 6, 4, 1, 7, 6, 0, 1, 4, 4, 3, 9, 9, 9, 0, 4, 7, 8, 6, 8, 4, 1, 6, 8, 7, 2, 7, 5, 8, 5, 4, 9, 6, 9, 8, 8, 8, 1, 8, 6, 1, 8, 9, 5, 9, 0, 8, 2, 8, 3, 9, 1, 9, 1, 5, 2, 0, 1, 9, 4, 9, 8, 4, 6, 9, 7, 9, 3, 4, 3, 9, 3, 4, 2, 8, 7, 4, 3, 5, 2, 5, 6, 8, 8, 1, 3, 0, 1, 6, 4, 7, 2, 8, 2, 2, 2, 2, 6, 4, 2, 5, 2, 4, 4, 3, 8, 0, 0, 1, 8, 3, 4, 4, 9, 7, 4, 1, 7, 1, 0, 2, 3, 8, 9, 5, 7, 2, 8, 2, 7, 5, 8, 4, 3, 4, 5, 1, 9, 8, 2, 8, 3, 1, 7, 0, 8, 1, 7, 8, 6, 0, 0, 0, 7, 0, 1, 1, 5, 6, 1, 3, 4, 9, 9, 5, 4, 9, 6, 1, 1, 5, 5, 3, 8, 6, 1, 2, 9, 6, 1, 2, 1, 2, 6, 7, 2, 1, 7, 9, 6, 0, 8, 8, 1, 1, 4, 7, 3, 7, 5, 3, 9, 7, 5, 3, 3, 6, 6, 3, 2, 5, 6, 5, 7, 4, 7, 7, 6, 7, 2, 9, 4, 4, 8, 0, 8, 7, 9, 8, 8, 4, 8, 1, 7, 0, 2, 0, 2, 1, 2, 5, 1, 2, 5, 0, 5, 9, 5, 4, 5, 7, 0, 5, 2, 2, 4, 1, 2, 3, 2, 8, 3, 8, 5, 8, 9, 5, 4, 1, 8, 0, 2, 3, 9, 5, 5, 6, 2, 2, 3, 0, 2, 7, 3, 9, 1, 5, 7, 7, 2, 3, 3, 3, 9, 9, 8, 4, 1, 0, 0, 3, 0, 2, 4, 1, 6, 6, 6, 3, 2, 6, 2, 1, 5, 4, 1, 0, 4, 5, 6, 8, 4, 3, 3, 9, 3, 6, 6, 4, 4, 9, 5, 0, 7, 8, 1, 2, 9, 1, 0, 0, 8, 8, 8, 2, 9, 1, 5, 1, 8, 1, 0, 9, 4, 4, 8, 7, 0, 7, 2, 9, 6, 3, 5, 9, 8, 4, 2, 8, 3, 8, 9, 7, 0, 3, 4, 0, 3, 4, 6, 4, 0, 5, 8, 3, 4, 5, 0, 5, 0, 2, 4, 3, 7, 3, 1, 0, 1, 8, 5, 9, 2, 2, 8, 8, 0, 7, 6, 5, 5, 3, 9, 8, 5, 5, 1, 3, 3, 0, 3, 7, 1, 8, 5, 2, 9, 5, 2, 6, 9, 5, 9, 5, 1, 9, 0, 5, 9, 1, 0, 0, 7, 9, 1, 2, 3, 8, 9, 0, 2, 3, 0, 0, 3, 4, 9, 7, 9, 4, 8, 9, 5, 8, 4, 4, 1, 3, 9, 9, 7, 5, 8, 2, 1, 4, 4, 3, 4, 2, 2, 6, 6, 3, 4, 0, 1, 1, 1, 9, 1, 0, 7, 1, 9, 7, 3, 8, 0, 4, 9, 5, 0, 2, 0, 5, 3, 4, 1, 6, 7, 5, 9, 5, 6, 5, 7, 4, 7, 5, 0, 9, 2, 6, 2, 6, 6, 6, 4, 6, 1, 6, 0, 4, 0, 0, 9, 9, 9, 2, 8, 2, 8, 7, 7, 1, 8, 6, 8, 5, 2, 2, 1, 7, 4, 8, 9, 4, 0, 2, 6, 0, 2, 5, 1, 6, 4, 2, 8, 8, 3, 7, 7, 0, 2, 0, 7, 2, 9, 6, 5, 3, 9, 3, 2, 0, 5, 8, 1, 1, 7, 1, 1, 8, 4, 9, 6, 9, 0, 9, 8, 2, 9, 8, 5, 0, 7, 1, 2, 3, 8, 7, 0, 8, 6, 5, 8, 7, 9, 2, 8, 5, 2, 3, 5, 7, 1, 9, 4, 2, 9, 1, 2, 5, 6, 1, 2, 0, 8, 1, 7, 9, 4, 3, 8, 6, 7, 2, 5, 6, 7, 2, 8, 4, 2, 2, 9, 5, 1, 7, 5, 2, 6, 5, 0, 2, 3, 2, 0, 0, 4, 9, 9, 1, 1, 9, 8, 7, 3, 9, 4, 4, 4, 2, 8, 1, 5, 1, 9, 2, 7, 2, 3, 5, 4, 0, 4, 8, 4, 6, 2, 0, 8, 3, 7, 3, 1, 3, 2, 1, 5, 8, 2, 3, 5, 7, 3, 5, 6, 2, 6, 4, 8, 0, 7, 8, 0, 2, 6, 5, 0, 0, 5, 3, 4, 9, 1, 8, 1, 3, 6, 1, 7, 2, 1, 2, 0, 2, 7, 6, 6, 6, 7, 4, 8, 7, 8, 0, 2, 3, 2, 2, 5, 3, 0, 2, 0, 8, 3, 5, 4, 9, 7, 8, 3, 1, 3, 2, 2, 3, 7, 9, 4, 4, 7, 0, 0, 7, 1, 2, 4, 8, 2, 3, 3, 7, 9, 7, 4, 3, 8, 7, 4, 7, 7, 7, 3, 4, 6, 2, 6, 7, 5, 9, 6, 0, 4, 4, 5, 0, 9, 6, 1, 1, 0, 3, 9, 3, 9, 0, 4, 3, 1, 9, 3, 7, 1, 7, 7, 9, 7, 7, 4, 3, 3, 8, 2, 5, 9, 2, 5, 2, 7, 5, 3, 4, 2, 8, 6, 9, 8, 6, 8, 1, 9, 7, 3, 4, 4, 6, 4, 9, 1, 2, 4, 0, 5, 1, 3, 3, 2, 0, 5, 1, 0, 3, 1, 3, 4, 2, 5, 9, 6, 9, 2, 1, 0, 8, 6, 7, 3, 3, 4, 9, 8, 9, 3, 0, 6, 0, 1, 1, 1, 5, 3, 4, 8, 0, 3, 6, 6, 8, 0, 9, 4, 7, 7, 9, 3, 8, 9, 8, 2, 3, 2, 9, 9, 8, 0, 1, 8, 7, 8, 9, 5, 3, 4, 7, 2, 5, 8, 5, 5, 4, 0, 5, 6, 7, 1, 3, 4, 4, 8, 3, 6, 4, 7, 5, 5, 2, 9, 1, 6, 7, 0, 2, 3, 4, 1, 9, 9, 8, 7, 7, 6, 0, 1, 5, 6, 9, 4, 6, 1, 8, 6, 7, 5, 8, 6, 0, 2, 4, 5, 0, 7, 7, 8, 8, 4, 6, 3, 2, 8, 0, 2, 2, 5, 5, 5, 4, 5, 3, 9, 4, 7, 5, 9, 6, 5, 0, 4, 9, 8, 1, 2, 2, 3, 4, 3, 4, 9, 6, 0, 7, 7, 0, 2, 1, 4, 2, 4, 0, 6, 7, 9, 1, 2, 9, 1, 1, 6, 8, 9, 4, 2, 7, 8, 5, 8, 0, 3, 7, 6, 2, 4, 3, 4, 8, 0, 7, 8, 7, 8, 3, 0, 7, 2, 5, 6, 6, 4, 1, 0, 8, 1, 5, 8, 8, 9, 1, 8, 1, 6, 4, 8, 2, 4, 3, 1, 2, 5, 9, 9, 6, 4, 7, 1, 1, 7, 8, 4, 8, 2, 4, 6, 2, 6, 2, 2, 7, 0, 9, 8, 9, 1, 2, 9, 0, 3, 1, 7, 1, 6, 2, 4, 1, 6, 0, 7, 7, 2, 7, 1, 6, 5, 7, 5, 1, 6, 5, 8, 3, 8, 8, 8, 4, 1, 1, 2, 6, 7, 2, 3, 7, 6, 7, 1, 9, 9, 6, 5, 8, 1, 2, 5, 8, 7, 9, 4, 2, 4, 1, 6, 7, 0, 7, 1, 7, 1, 3, 3, 6, 4, 6, 5, 0, 8, 5, 1, 4, 9, 8, 0, 2, 8, 4, 7, 2, 3, 4, 9, 4, 8, 8, 1, 9, 6, 7, 2, 8, 6, 7, 0, 6, 0, 5, 7, 6, 0, 5, 0, 1, 0, 9, 0, 6, 0, 6, 1, 5, 2, 7, 9, 8, 0, 9, 4, 9, 0, 3, 5, 8, 0, 8, 2, 9, 7, 0, 4, 4, 9, 2, 3, 5, 2, 6, 7, 3, 5, 8, 6, 7, 1, 3, 0, 9, 8, 8, 3, 8, 8, 3, 6, 5, 5, 7, 7, 8, 2, 4, 2, 9, 3, 2, 7, 0, 9, 5, 3, 1, 2, 4, 2, 4, 5, 9, 5, 5, 7, 1, 1, 4, 6, 0, 8, 9, 8, 7, 8, 1, 4, 0, 8, 0, 7, 3, 1, 8, 5, 4, 6, 1, 6, 9, 5, 9, 5, 6, 2, 9, 9, 6, 6, 4, 8, 4, 5, 7, 0, 0, 6, 1, 9, 6, 0, 7, 2, 7, 1, 1, 4, 6, 0, 9, 1, 5, 9, 3, 7, 4, 0, 2, 2, 2, 8, 7, 6, 3, 4, 2, 8, 7, 5, 1, 1, 7, 1, 3, 0, 1, 3, 0, 2, 4, 0, 7, 4, 5, 3, 9, 2, 2, 5, 6, 2, 8, 7, 1, 1, 6, 0, 7, 3, 3, 9, 5, 5, 2, 8, 3, 3, 0, 1, 4, 2, 9, 8, 1, 8, 7, 8, 5, 7, 8, 6, 1, 5, 1, 2, 2, 8, 1, 8, 8, 7, 6, 9, 7, 4, 8, 3, 0, 1, 4, 9, 9, 2, 7, 4, 8, 0, 3, 3, 4, 4, 3, 3, 3, 9, 6, 3, 6, 3, 3, 3, 4, 7, 2, 1, 4, 1, 9, 6, 1, 4, 4, 2, 4, 6, 9, 5, 6, 7, 5, 3, 5, 5, 6, 9, 7, 3, 1, 1, 7, 3, 0, 6, 7, 7, 3, 4, 2, 3, 1, 5, 6, 6, 8, 6, 3, 2, 0, 1, 5, 6, 3, 4, 0, 0, 7, 2, 4, 2, 4, 1, 9, 0, 2, 6, 5, 8, 1, 3, 9, 0, 1, 1, 0, 8, 6, 0, 1, 5, 8, 9, 2, 1, 2, 7, 7, 9, 7, 7, 1, 2, 3, 4, 9, 5, 2, 8, 8, 9, 6, 4, 8, 5, 9, 6, 2, 8, 9, 3, 0, 4, 2, 6, 0, 2, 7, 9, 3, 6, 0, 8, 3, 4, 7, 8, 9, 7, 5, 9, 9, 4, 2, 9, 4, 2, 0, 1, 3, 3, 4, 9, 7, 8, 5, 1, 5, 9, 3, 2, 0, 7, 1, 9, 3, 3, 6, 4, 8, 2, 1, 3, 8, 1, 0, 4, 0, 0, 0, 7, 2, 3, 5, 0, 2, 3, 4, 9, 0, 0, 2, 7, 5, 3, 0, 7, 3, 2, 2, 1, 2, 9, 8, 6, 3, 5, 4, 8, 1, 6, 8, 7, 2, 9, 4, 5, 6, 1, 0, 8, 2, 4, 2, 4, 0, 2, 0, 8, 3, 7, 1, 0, 6, 9, 3, 9, 1, 3, 5, 2, 6, 9, 5, 7, 3, 8, 8, 4, 1, 0, 1, 0, 4, 1, 4, 0, 5, 9, 5, 1, 1, 2, 4, 7, 3, 3, 1, 1, 7, 6, 8, 8, 2, 4, 6, 8, 7, 2, 8, 5, 8, 1, 3, 1, 7, 4, 7, 5, 9, 4, 6, 3, 0, 6, 6, 8, 4, 9, 9, 1, 6, 3, 1, 5, 1, 1, 5, 1, 4, 7, 7, 1, 4, 8, 8, 9, 5, 1, 9, 2, 3, 6, 5, 5, 0, 4, 9, 2, 9, 9, 5, 1, 8, 7, 0, 0, 5, 9, 1, 8, 9, 2, 1, 2, 6, 2, 3, 1, 0, 6, 8, 4, 8, 4, 7, 6, 0, 8, 4, 2, 0, 9, 5, 9, 2, 5, 4, 9, 0, 6, 0, 8, 6, 9, 4, 0, 9, 8, 1, 9, 0, 4, 5, 7, 9, 0, 2, 6, 5, 7, 8, 9, 1, 5, 2, 2, 8, 0, 6, 4, 4, 8, 7, 5, 3, 3, 6, 3, 5, 6, 5, 6, 4, 2, 9, 7, 4, 6, 3, 8, 3, 3, 5, 3, 3, 7, 2, 0, 8, 1, 3, 2, 5, 1, 2, 6, 9, 1, 7, 3, 8, 0, 5, 4, 4, 1, 9, 4, 8, 1, 6, 3, 2, 0, 9, 7, 6, 5, 6, 1, 7, 7, 5, 5, 0, 3, 5, 0, 0, 2, 5, 6, 5, 2, 6, 6, 7, 3, 8, 8, 9, 1, 8, 4, 6, 3, 7, 7, 7, 8, 3, 7, 4, 8, 0, 9, 4, 0, 3, 3, 6, 6, 9, 6, 9, 4, 6, 4, 0, 9, 4, 4, 2, 6, 6, 8, 6, 8, 1, 4, 2, 6, 1, 4, 3, 3, 8, 1, 1, 5, 6, 0, 2, 5, 3, 9, 5, 5, 4, 5, 1, 5, 9, 2, 8, 8, 0, 8, 0, 1, 3, 7, 4, 3, 2, 4, 1, 5, 5, 1, 6, 7, 8, 1, 7, 0, 0, 4, 2, 6, 9, 7, 7, 1, 7, 4, 4, 0, 0, 7, 7, 0, 9, 2, 1, 6, 0, 8, 2, 8, 4, 7, 8, 7, 3, 4, 6, 2, 6, 1, 7, 8, 7, 8, 2, 7, 9, 5, 3, 3, 1, 7, 0, 7, 3, 3, 9, 0, 2, 4, 9, 5, 2, 3, 9, 5, 3, 7, 7, 9, 7, 1, 2, 6, 6, 1, 9, 0, 9, 0, 9, 1, 4, 1, 1, 0, 3, 8, 3, 3, 2, 8, 4, 6, 5, 0, 5, 1, 1, 4, 2, 1, 7, 3, 7, 4, 1, 8, 9, 3, 9, 4, 3, 3, 3, 1, 0, 7, 9, 4, 5, 3, 4, 9, 8, 4, 6, 7, 8, 0, 9, 1, 0, 7, 6, 5, 2, 2, 5, 2, 6, 7, 5, 2, 2, 8, 5, 2, 0, 7, 2, 7, 1, 5, 2, 6, 2, 9, 2, 5, 3, 7, 6, 3, 9, 3, 6, 5, 7, 5, 6, 9, 4, 8, 5, 3, 9, 2, 8, 0, 4, 5, 9, 4, 0, 2, 5, 9, 4, 4, 4, 3, 8, 3, 4, 4, 1, 5, 8, 6, 2, 5, 2, 2, 3, 0, 4, 1, 3, 9, 7, 8, 6, 1, 4, 2, 3, 4, 5, 1, 4, 7, 6, 0, 7, 6, 9, 3, 2, 5, 1, 8, 3, 1, 2, 6, 4, 3, 8, 4, 3, 0, 9, 3, 3, 7, 4, 3, 4, 7, 4, 5, 7, 5, 2, 7, 2, 3, 1, 1, 9, 0, 7, 2, 0, 8, 4, 9, 8, 7, 9, 8, 8, 7, 1, 4, 3, 3, 4, 8, 8, 8, 1, 2, 6, 9, 6, 1, 9, 3, 8, 4, 9, 1, 7, 8, 3, 3, 0, 1, 3, 6, 2, 7, 4, 6, 3, 1, 6, 9, 0, 4, 7, 0, 1, 4, 0, 2, 0, 4, 6, 1, 1, 2, 1, 8, 6, 1, 6, 7, 9, 0, 2, 0, 6, 6, 2, 8, 7, 5, 6, 8, 9, 9, 8, 0, 5, 8, 3, 2, 8, 9, 8, 8, 0, 3, 8, 5, 9, 4, 5, 5, 4, 5, 4, 3, 5, 5, 0, 7, 2, 1, 5, 5, 9, 7, 2, 0, 6, 8, 2, 5, 6, 9, 7, 2, 2, 5, 9, 3, 0, 7, 8, 6, 1, 8, 1, 5, 0, 1, 1, 8, 2, 0, 5, 4, 5, 3, 7, 2, 9, 2, 0, 2, 5, 1, 0, 4, 6, 4, 8, 7, 7, 4, 2, 9, 4, 1, 6, 2, 6, 3, 1, 7, 6, 6, 4, 2, 4, 9, 1, 6, 3, 3, 8, 9, 5, 3, 2, 7, 8, 7, 1, 9, 8, 1, 7, 0, 9, 8, 6, 1, 2, 3, 7, 5, 5, 6, 6, 5, 0, 3, 5, 5, 7, 1, 4, 2, 4, 7, 3, 3, 1, 6, 8, 8, 8, 4, 3, 0, 7, 6, 2, 3, 8, 1, 1, 4, 0, 6, 3, 2, 8, 2, 0, 2, 0, 2, 1, 9, 4, 5, 6, 9, 1, 6, 4, 5, 4, 8, 2, 5, 6, 6, 4, 3, 4, 0, 3, 6, 3, 3, 6, 9, 1, 5, 3, 5, 9, 5, 1, 3, 5, 3, 7, 0, 9, 8, 4, 5, 1, 8, 0, 2, 6, 6, 6, 9, 0, 5, 0, 3, 8, 6, 2, 7, 1, 1, 1, 3, 8, 4, 6, 3, 4, 8, 1, 6, 5, 8, 2, 8, 8, 7, 6, 2, 8, 0, 8, 7, 5, 0, 0, 9, 1, 7, 8, 3, 0, 1, 3, 7, 2, 5, 2, 2, 7, 4, 0, 7, 8, 2, 2, 3, 6, 0, 1, 9, 0, 6, 4, 3, 1, 9, 9, 5, 5, 0, 5, 7, 4, 4, 8, 8, 7, 6, 8, 9, 7, 3, 1, 9, 7, 1, 2, 7, 2, 9, 9, 0, 6, 6, 0, 2, 9, 7, 0, 5, 9, 7, 5, 3, 7, 8, 2, 8, 7, 9, 1, 1, 1, 6, 3, 7, 3, 2, 4, 8, 1, 5, 2, 7, 5, 2, 7, 3, 2, 4, 1, 7, 6, 8, 4, 2, 6, 8, 1, 5, 4, 7, 4, 1, 8, 6, 6, 6, 2, 2, 8, 2, 8, 9, 9, 3, 8, 4, 9, 0, 4, 2, 1, 0, 3, 3, 9, 1, 1, 4, 5, 3, 0, 1, 8, 3, 9, 2, 2, 6, 6, 0, 7, 7, 5, 9, 5, 0, 4, 8, 7, 7, 8, 4, 7, 0, 4, 1, 1, 9, 7, 1, 9, 3, 2, 1, 7, 1, 4, 3, 9, 7, 8, 2, 4, 2, 5, 2, 9, 1, 1, 5, 1, 3, 3, 1, 8, 7, 5, 0, 6, 6, 1, 8, 0, 0, 4, 0, 7, 3, 4, 2, 6, 2, 3, 0, 6, 3, 9, 5, 0, 4, 4, 9, 0, 2, 4, 9, 0, 9, 6, 1, 0, 4, 1, 8, 3, 4, 9, 4, 8, 6, 2, 0, 1, 5, 3, 8, 5, 5, 7, 3, 1, 9, 5, 5, 7, 2, 2, 6, 0, 7, 2, 9, 5, 4, 1, 0, 6, 3, 4, 5, 1, 7, 8, 5, 5, 8, 4, 1, 9, 2, 9, 4, 6, 8, 4, 1, 5, 2, 1, 9, 2, 7, 5, 1, 1, 9, 9, 2, 3, 0, 8, 8, 9, 6, 1, 7, 3, 8, 4, 5, 3, 1, 6, 2, 9, 1, 7, 1, 6, 0, 3, 5, 8, 8, 0, 8, 0, 0, 4, 4, 0, 7, 2, 7, 7, 3, 8, 8, 2, 5, 8, 6, 7, 4, 4, 0, 6, 9, 5, 5, 1, 5, 4, 4, 6, 3, 1, 5, 4, 0, 9, 0, 7, 3, 4, 1, 3, 9, 2, 9, 7, 5, 5, 7, 1, 0, 9, 6, 1, 0, 0, 0, 3, 1, 5, 4, 7, 6, 7, 2, 5, 4, 1, 3, 1, 7, 4, 0, 2, 1, 3, 4, 8, 3, 4, 7, 3, 8, 7, 8, 1, 3, 0, 8, 4, 1, 0, 2, 5, 3, 2, 8, 7, 4, 0, 2, 0, 9, 6, 7, 1, 1, 0, 0, 0, 7, 7, 8, 2, 1, 8, 5, 2, 6, 1, 5, 2, 1, 3, 8, 0, 2, 3, 7, 8, 5, 2, 1, 0, 2, 8, 1, 2, 5, 6, 7, 3, 2, 5, 7, 5, 9, 9, 7, 9, 2, 0, 8, 7, 8, 3, 0, 4, 2, 2, 3, 4, 3, 4, 8, 8, 6, 6, 9, 7, 4, 3, 4, 3, 4, 6, 3, 9, 9, 1, 0, 2, 1, 2, 6, 2, 4, 5, 8, 4, 3, 4, 1, 3, 8, 7, 2, 2, 0, 3, 7, 8, 2, 0, 1, 1, 9, 2, 8, 8, 4, 4, 4, 7, 1, 4, 5, 4, 3, 6, 1, 4, 1, 4, 6, 2, 5, 9, 2, 4, 6, 4, 3, 9, 8, 1, 5, 9, 0, 5, 9, 1, 0, 8, 0, 6, 5, 3, 7, 8, 8, 5, 2, 4, 4, 8, 8, 0, 9, 9, 2, 8, 1, 7, 4, 4, 2, 9, 2, 5, 0, 1, 3, 2, 4, 2, 3, 6, 4, 6, 5, 3, 5, 6, 2, 3, 7, 1, 4, 2, 0, 3, 6, 6, 8, 9, 3, 6, 2, 0, 1, 3, 3, 8, 8, 7, 3, 9, 3, 0, 8, 1, 1, 5, 4, 6, 8, 1, 7, 3, 7, 4, 5, 9, 6, 9, 4, 0, 7, 5, 1, 0, 2, 4, 1, 0, 1, 5, 9, 5, 4, 1, 0, 5, 9, 7, 4, 0, 7, 7, 6, 0, 8, 4, 2, 9, 0, 9, 2, 0, 3, 2, 9, 7, 1, 3, 6, 9, 1, 6, 3, 2, 7, 7, 4, 3, 2, 2, 8, 5, 6, 2, 1, 6, 8, 2, 1, 6, 4, 3, 9, 0, 0, 1, 5, 3, 8, 4, 5, 6, 4, 5, 4, 8, 8, 9, 3, 5, 1, 3, 6, 1, 3, 3, 8, 7, 2, 2, 3, 0, 3, 8, 5, 7, 0, 4, 4, 8, 0, 8, 9, 3, 9, 4, 1, 4, 4, 0, 5, 0, 9, 1, 8, 6, 2, 5, 5, 2, 6, 2, 7, 4, 4, 1, 1, 0, 0, 7, 4, 5, 9, 3, 6, 7, 1, 6, 4, 5, 0, 7, 0, 4, 1, 6, 1, 6, 1, 7, 3, 8, 1, 3, 9, 4, 3, 0, 3, 2, 4, 9, 0, 6, 9, 9, 7, 4, 0, 4, 6, 8, 6, 2, 2, 0, 6, 7, 2, 3, 5, 5, 0, 9, 7, 2, 6, 4, 6, 6, 7, 5, 3, 6, 1, 0, 0, 3, 5, 4, 9, 2, 0, 6, 9, 0, 5, 9, 4, 1, 9, 8, 3, 6, 3, 0, 6, 2, 1, 7, 0, 4, 4, 9, 4, 5, 4, 8, 8, 7, 6, 4, 0, 0, 3, 8, 8, 5, 2, 1, 6, 3, 1, 8, 4, 3, 0, 7, 0, 1, 4, 4, 1, 1, 5, 6, 7, 6, 8, 9, 2, 3, 2, 9, 5, 1, 5, 1, 6, 6, 0, 6, 3, 1, 8, 1, 2, 6, 6, 0, 6, 9, 3, 7, 4, 9, 5, 5, 6, 8, 8, 9, 9, 0, 0, 6, 2, 0, 3, 2, 0, 7, 0, 9, 8, 9, 1, 9, 1, 9, 3, 4, 9, 8, 1, 9, 2, 7, 7, 4, 9, 1, 1, 4, 8, 3, 3, 2, 3, 0, 6, 3, 4, 7, 1, 8, 1, 8, 3, 1, 7, 2, 1, 7, 9, 8, 4, 1, 5, 5, 6, 3, 1, 6, 0, 9, 2, 8, 7, 3, 4, 7, 9, 9, 8, 2, 3, 4, 1, 6, 9, 2, 2, 6, 3, 0, 7, 4, 0, 0, 3, 6, 1, 9, 1, 3, 4, 2, 6, 2, 8, 2, 6, 2, 5, 6, 2, 8, 3, 9, 0, 4, 2, 1, 4, 9, 4, 8, 0, 3, 6, 3, 2, 5, 7, 8, 6, 4, 5, 7, 3, 5, 6, 7, 1, 0, 3, 2, 6, 3, 6, 9, 3, 7, 0, 1, 1, 1, 7, 9, 3, 6, 6, 8, 0, 2, 3, 6, 3, 1, 9, 6, 7, 4, 3, 0, 4, 3, 1, 6, 1, 8, 5, 1, 3, 9, 4, 3, 3, 1, 3, 9, 8, 2, 4, 7, 5, 3, 2, 8, 9, 2, 3, 6, 7, 6, 5, 1, 4, 4, 1, 4, 4, 4, 5, 5, 0, 5, 1, 5, 5, 7, 2, 1, 5, 3, 2, 0, 3, 1, 5, 0, 6, 2, 5, 8, 2, 7, 6, 7, 1, 8, 2, 5, 9, 7, 8, 9, 6, 0, 9, 4, 0, 6, 1, 0, 0, 0, 2, 2, 3, 3, 9, 9, 1, 1, 5, 1, 1, 4, 7, 9, 8, 5, 3, 1, 7, 6, 3, 1, 3, 2, 8, 5, 9, 5, 4, 5, 1, 1, 0, 8, 0, 9, 1, 7, 3, 9, 6, 7, 4, 8, 4, 3, 7, 1, 9, 5, 4, 8, 9, 7, 4, 7, 3, 9, 7, 4, 8, 3, 4, 7, 7, 0, 7, 2, 2, 8, 1, 6, 0, 1, 3, 5, 1, 3, 9, 2, 3, 6, 0, 0, 8, 0, 1, 2, 4, 0, 4, 5, 3, 8, 0, 5, 5, 5, 6, 5, 4, 5, 3, 6, 3, 5, 3, 8, 5, 8, 5, 6, 0, 1, 8, 6, 3, 4, 1, 4, 1, 1, 8, 4, 8, 4, 3, 4, 0, 8, 7, 3, 9, 9, 4, 8, 9, 9, 3, 8, 2, 2, 5, 4, 3, 2, 3, 2, 1, 3, 8, 2, 0, 0, 2, 2, 0, 4, 3, 0, 1, 0, 3, 1, 0, 1, 1, 1, 3, 0, 7, 0, 9, 3, 3, 1, 3, 4, 6, 6, 0, 9, 5, 9, 3, 8, 4, 8, 4, 8, 7, 3, 8, 2, 3, 7, 4, 2, 0, 0, 5, 6, 9, 2, 4, 5, 0, 7, 8, 3, 7, 0, 5, 5, 9, 3, 3, 2, 1, 6, 1, 9, 5, 2, 4, 9, 8, 4, 7, 1, 0, 1, 6, 4, 6, 3, 9, 1, 9, 8, 6, 6, 1, 9, 4, 3, 5, 5, 9, 8, 2, 6, 7, 3, 9, 9, 2, 5, 5, 8, 1, 6, 6, 5, 2, 1, 1, 8, 0, 2, 2, 3, 1, 4, 1, 0, 6, 7, 7, 2, 4, 2, 8, 3, 9, 0, 6, 3, 7, 8, 8, 1, 4, 3, 4, 2, 9, 3, 7, 4, 1, 0, 6, 4, 8, 9, 4, 1, 5, 7, 8, 5, 3, 5, 5, 4, 5, 9, 1, 0, 1, 8, 0, 3, 0, 0, 9, 7, 0, 9, 3, 7, 2, 1, 9, 0, 2, 3, 0, 1, 0, 7, 4, 7, 4, 3, 0, 6, 5, 5, 2, 1, 6, 9, 3, 2, 6, 7, 5, 9, 4, 6, 1, 8, 0, 9, 6, 3, 2, 7, 2, 2, 4, 3, 8, 1, 7, 3, 9, 4, 5, 5, 1, 8, 2, 6, 3, 5, 1, 6, 8, 8, 0, 0, 2, 8, 8, 3, 9, 0, 3, 6, 9, 6, 6, 4, 9, 9, 7, 8, 5, 4, 5, 7, 8, 6, 8, 6, 7, 7, 8, 4, 5, 5, 1, 5, 3, 7, 1, 3, 8, 8, 1, 5, 0, 0, 4, 9, 9, 7, 4, 8, 1, 0, 2, 8, 9, 3, 9, 4, 3, 1, 4, 5, 1, 2, 7, 1, 6, 9, 3, 9, 0, 2, 0, 9, 0, 0, 1, 8, 1, 0, 1, 0, 6, 0, 4, 6, 3, 8, 3, 5, 1, 9, 5, 7, 0, 2, 4, 0, 0, 7, 0, 8, 0, 1, 6, 4, 3, 3, 5, 6, 3, 5, 3, 1, 9, 0, 3, 5, 6, 9, 2, 3, 0, 9, 0, 8, 1, 6, 2, 4, 2, 4, 6, 2, 2, 2, 4, 5, 4, 6, 2, 7, 1, 6, 2, 9, 4, 4, 9, 9, 7, 9, 4, 7, 0, 1, 4, 7, 6, 2, 9, 4, 1, 1, 8, 4, 3, 5, 0, 1, 0, 9, 1, 9, 1, 5, 1, 9, 2, 1, 4, 2, 3, 0, 3, 8, 9, 9, 8, 0, 3, 8, 2, 9, 6, 1, 2, 7, 0, 8, 6, 5, 9, 8, 5, 8, 3, 2, 0, 7, 2, 9, 6, 4, 8, 9, 4, 2, 6, 7, 6, 0, 6, 4, 7, 8, 9, 0, 1, 0, 4, 2, 1, 6, 7, 7, 9, 4, 8, 3, 9, 6, 4, 7, 0, 8, 9, 2, 6, 3, 9, 4, 2, 9, 3, 8, 8, 1, 8, 9, 6, 0, 2, 4, 9, 8, 0, 3, 6, 3, 1, 0, 5, 4, 2, 5, 2, 4, 0, 9, 7, 9, 5, 9, 3, 4, 9, 1, 3, 0, 5, 9, 3, 0, 9, 4, 4, 3, 7, 5, 9, 5, 3, 2, 0, 4, 7, 0, 3, 2, 5, 5, 3, 6, 0, 7, 2, 4, 3, 8, 3, 9, 5, 5, 4, 7, 8, 3, 4, 1, 1, 1, 9, 8, 8, 5, 0, 0, 8, 1, 9, 7, 2, 7, 2, 5, 4, 5, 2, 6, 1, 1, 7, 8, 9, 4, 7, 5, 7, 4, 6, 7, 0, 1, 9, 8, 8, 3, 9, 0, 4, 0, 4, 7, 2, 6, 5, 7, 8, 3, 8, 6, 4, 4, 0, 6, 7, 8, 5, 4, 2, 6, 0, 8, 2, 4, 0, 6, 1, 7, 9, 0, 4, 5, 8, 7, 4, 7, 0, 5, 0, 0, 1, 2, 6, 2, 4, 3, 9, 5, 8, 1, 4, 5, 1, 6, 7, 5, 1, 8, 7, 6, 9, 2, 1, 6, 6, 2, 5, 6, 6, 3, 5, 1, 9, 8, 3, 1, 7, 1, 5, 4, 7, 5, 9, 8, 3, 5, 5, 6, 6, 2, 6, 2, 9, 4, 6, 7, 1, 3, 4, 2, 1, 2, 4, 7, 2, 2, 7, 8, 7, 3, 2, 0, 0, 3, 3, 3, 9, 1, 9, 2, 5, 6, 8, 4, 1, 5, 7, 2, 7, 4, 7, 2, 8, 0, 2, 3, 5, 0, 0, 3, 6, 0, 2, 6, 8, 4, 1, 7, 8, 0, 2, 0, 6, 7, 8, 1, 3, 2, 1, 8, 2, 3, 5, 8, 4, 7, 0, 0, 2, 5, 4, 7, 0, 7, 9, 8, 6, 1, 5, 0, 1, 9, 5, 0, 6, 8, 9, 1, 1, 4, 9, 1, 0, 7, 7, 1, 7, 1, 6, 6, 3, 0, 3, 0, 2, 1, 0, 3, 6, 5, 9, 8, 7, 7, 7, 6, 2, 1, 1, 1, 0, 8, 2, 1, 6, 4, 1, 9, 7, 5, 2, 0, 0, 2, 0, 7, 4, 1, 8, 4, 2, 0, 2, 1, 0, 4, 5, 1, 2, 3, 1, 1, 7, 4, 1, 9, 6, 2, 2, 2, 3, 0, 1, 3, 0, 8, 0, 6, 1, 7, 1, 5, 2, 9, 6, 5, 9, 2, 2, 6, 6, 3, 6, 7, 4, 2, 3, 7, 7, 1, 5, 3, 4, 2, 9, 5, 3, 4, 9, 8, 5, 8, 2, 5, 3, 8, 4, 1, 0, 3, 0, 0, 4, 8, 4, 0, 4, 8, 3, 0, 2, 7, 0, 7, 1, 4, 6, 1, 6, 4, 4, 8, 3, 3, 9, 8, 5, 3, 9, 9, 9, 1, 2, 1, 5, 6, 9, 3, 4, 5, 0, 4, 1, 8, 7, 1, 4, 2, 3, 7, 3, 3, 6, 9, 3, 8, 4, 8, 5, 2, 4, 5, 9, 8, 0, 4, 0, 0, 3, 4, 9, 4, 2, 4, 0, 0, 9, 7, 5, 3, 0, 3, 5, 4, 0, 3, 8, 7, 8, 3, 3, 0, 8, 1, 1, 3, 0, 7, 3, 7, 6, 5, 1, 0, 2, 1, 3, 9, 5, 6, 9, 9, 2, 0, 6, 0, 1, 9, 7, 7, 9, 6, 9, 5, 2, 4, 1, 1, 4, 4, 0, 7, 7, 2, 1, 3, 7, 4, 5, 6, 9, 1, 0, 8, 7, 9, 4, 2, 7, 4, 6, 7, 0, 4, 0, 9, 1, 6, 9, 4, 2, 0, 3, 8, 2, 0, 7, 6, 8, 0, 8, 3, 3, 3, 1, 5, 6, 3, 3, 1, 8, 9, 2, 8, 2, 3, 6, 4, 8, 6, 3, 7, 6, 0, 9, 0, 0, 8, 2, 9, 7, 6, 7, 7, 0, 5, 9, 1, 3, 8, 5, 5, 0, 0, 0, 6, 1, 1, 6, 2, 7, 5, 0, 7, 8, 9, 4, 6, 2, 7, 8, 4, 2, 5, 6, 4, 7, 7, 5, 9, 9, 4, 1, 1, 1, 7, 6, 6, 7, 0, 5, 7, 8, 7, 7, 3, 8, 5, 2, 7, 4, 6, 0, 7, 9, 5, 7, 8, 0, 1, 5, 9, 6, 8, 8, 1, 2, 5, 9, 1, 2, 1, 3, 2, 8, 9, 5, 0, 3, 2, 1, 1, 4, 8, 9, 5, 3, 7, 2, 3, 0, 7, 8, 3, 6, 9, 6, 2, 8, 0, 7, 2, 2, 8, 7, 1, 6, 9, 3, 0, 2, 3, 2, 0, 2, 5, 6, 6, 1, 2, 2, 0, 7, 7, 6, 7, 3, 9, 3, 2, 8, 1, 8, 0, 6, 6, 7, 1, 2, 3, 1, 2, 2, 2, 6, 8, 6, 9, 5, 6, 6, 6, 1, 9, 5, 0, 1, 9, 0, 2, 5, 9, 0, 0, 2, 1, 0, 8, 6, 5, 2, 6, 6, 0, 7, 4, 0, 6, 0, 2, 2, 7, 8, 5, 2, 0, 4, 3, 6, 9, 1, 0, 3, 6, 5, 9, 3, 2, 6, 3, 5, 8, 0, 4, 5, 9, 3, 4, 5, 4, 5, 5, 5, 5, 3, 5, 0, 0, 5, 3, 5, 0, 0, 5, 4, 2, 8, 3, 2, 9, 1, 6, 1, 4, 7, 3, 1, 7, 5, 4, 8, 1, 7, 0, 7, 3, 2, 0, 0, 2, 9, 1, 5, 4, 7, 8, 0, 6, 6, 5, 0, 8, 7, 2, 5, 9, 9, 5, 6, 4, 3, 0, 0, 1, 7, 6, 7, 9, 7, 3, 1, 5, 2, 5, 5, 6, 4, 9, 0, 2, 2, 6, 7, 9, 0, 3, 9, 3, 2, 0, 8, 6, 8, 2, 9, 5, 4, 6, 3, 0, 5, 1, 0, 8, 0, 5, 3, 8, 5, 2, 8, 6, 0, 4, 6, 4, 0, 8, 1, 7, 7, 5, 3, 7, 3, 4, 5, 1, 2, 8, 6, 3, 9, 2, 4, 3, 3, 6, 9, 7, 2, 2, 1, 6, 4, 5, 8, 9, 3, 4, 1, 8, 8, 2, 9, 3, 0, 1, 8, 0, 5, 2, 1, 4, 6, 8, 6, 1, 7, 7, 3, 1, 8, 4, 1, 6, 5, 0, 4, 0, 6, 9, 9, 8, 3, 4, 2, 4, 2, 3, 6, 8, 8, 0, 4, 0, 2, 9, 1, 2, 5, 1, 0, 4, 1, 1, 9, 0, 7, 0, 8, 5, 4, 2, 0, 0, 1, 3, 4, 8, 2, 4, 1, 0, 8, 1, 3, 7, 6, 9, 3, 8, 4, 8, 1, 8, 6, 4, 3, 5, 8, 5, 7, 2, 4, 6, 1, 9, 3, 5, 5, 5, 6, 3, 3, 8, 8, 0, 3, 0, 4, 6, 0, 3, 3, 8, 1, 6, 4, 2, 9, 8, 7, 1, 5, 8, 7, 5, 3, 7, 1, 8, 6, 9, 8, 9, 5, 3, 8, 1, 0, 5, 7, 3, 8, 0, 1, 8, 7, 0, 9, 4, 1, 8, 8, 3, 0, 0, 8, 9, 7, 2, 4, 6, 4, 9, 7, 2, 6, 5, 2, 6, 9, 6, 2, 0, 3, 0, 9, 0, 6, 1, 0, 5, 4, 7, 0, 2, 1, 9, 8, 5, 3, 4, 0, 4, 8, 8, 7, 0, 7, 6, 7, 6, 2, 2, 2, 8, 5, 3, 3, 7, 3, 4, 5, 2, 3, 8, 5, 4, 4, 8, 6, 4, 4, 5, 0, 3, 5, 2, 6, 3, 8, 8, 0, 9, 8, 1, 3, 6, 0, 3, 0, 6, 1, 7, 6, 4, 9, 0, 7, 4, 9, 1, 6, 0, 9, 7, 4, 2, 2, 3, 0, 5, 6, 2, 8, 7, 7, 2, 1, 5, 1, 0, 1, 8, 3, 0, 1, 2, 6, 5, 5, 6, 7, 0, 6, 8, 5, 7, 4, 1, 1, 1, 8, 2, 3, 6, 3, 0, 1, 1, 2, 2, 5, 5, 6, 3, 9, 8, 2, 1, 2, 1, 4, 9, 2, 7, 1, 9, 1, 2, 8, 0, 2, 4, 0, 0, 8, 5, 6, 0, 6, 4, 5, 7, 8, 2, 7, 6, 2, 8, 5, 2, 5, 8, 5, 6, 3, 3, 3, 5, 4, 8, 4, 2, 9, 3, 9, 5, 2, 7, 3, 1, 8, 8, 0, 5, 5, 8, 9, 9, 9, 6, 4, 2, 1, 7, 3, 5, 9, 9, 5, 4, 9, 5, 7, 9, 0, 2, 8, 8, 6, 3, 9, 3, 6, 3, 9, 1, 5, 8, 6, 9, 8, 3, 0, 9, 0, 0, 9, 4, 8, 8, 8, 0, 1, 4, 6, 1, 8, 4, 2, 6, 4, 5, 0, 9, 0, 5, 8, 6, 1, 2, 0, 2, 5, 5, 7, 8, 1, 6, 1, 1, 6, 7, 0, 5, 3, 1, 2, 2, 9, 9, 4, 2, 8, 2, 4, 8, 6, 9, 6, 0, 0, 8, 2, 4, 8, 6, 0, 9, 8, 1, 9, 5, 0, 5, 5, 6, 8, 7, 7, 7, 8, 2, 8, 9, 9, 6, 5, 1, 9, 3, 0, 4, 6, 7, 5, 6, 5, 4, 2, 6, 9, 4, 5, 4, 7, 9, 1, 6, 8, 3, 4, 1, 4, 1, 1, 0, 0, 2, 1, 8, 7, 7, 6, 6, 5, 6, 2, 7, 3, 9, 1, 8, 5, 5, 3, 6, 0, 9, 5, 9, 1, 5, 1, 9, 7, 2, 9, 3, 8, 1, 4, 6, 9, 8, 2, 6, 0, 0, 3, 8, 7, 8, 3, 3, 8, 5, 7, 3, 9, 5, 3, 7, 5, 2, 2, 7, 3, 4, 7, 8, 1, 7, 4, 3, 2, 7, 8, 0, 0, 5, 0, 0, 8, 7, 5, 9, 7, 3, 3, 3, 2, 5, 3, 0, 5, 2, 1, 8, 0, 7, 6, 4, 4, 2, 2, 6, 4, 3, 0, 9, 8]\n",
            "Max: 9\n"
          ],
          "name": "stdout"
        }
      ]
    },
    {
      "cell_type": "markdown",
      "metadata": {
        "id": "Q8CwLoPU5BLM",
        "colab_type": "text"
      },
      "source": [
        "# PATE Analysis"
      ]
    },
    {
      "cell_type": "code",
      "metadata": {
        "id": "YnI2I8JJ5BLN",
        "colab_type": "code",
        "colab": {
          "base_uri": "https://localhost:8080/",
          "height": 34
        },
        "outputId": "0ae0daaf-8782-4e98-85be-5ca03a59e826"
      },
      "source": [
        "labels = np.array([9, 9, 3, 6, 9, 9, 9, 9, 8, 2])\n",
        "counts = np.bincount(labels, minlength=10)\n",
        "query_result = np.argmax(counts)\n",
        "query_result"
      ],
      "execution_count": 19,
      "outputs": [
        {
          "output_type": "execute_result",
          "data": {
            "text/plain": [
              "9"
            ]
          },
          "metadata": {
            "tags": []
          },
          "execution_count": 19
        }
      ]
    },
    {
      "cell_type": "code",
      "metadata": {
        "id": "yIBbL-pe5BLO",
        "colab_type": "code",
        "colab": {
          "base_uri": "https://localhost:8080/",
          "height": 1000
        },
        "outputId": "2912fd3c-a340-4f8a-f453-dd883ddf0d58"
      },
      "source": [
        "!pip install syft\n",
        "from syft.frameworks.torch.differential_privacy import pate"
      ],
      "execution_count": 20,
      "outputs": [
        {
          "output_type": "stream",
          "text": [
            "Collecting syft\n",
            "\u001b[?25l  Downloading https://files.pythonhosted.org/packages/ef/26/ce834ea9ffc150e82fdc742e79d839031351c6329202b0237c6dc4d3ad04/syft-0.1.19a1-py3-none-any.whl (206kB)\n",
            "\u001b[K     |████████████████████████████████| 215kB 2.8MB/s \n",
            "\u001b[?25hRequirement already satisfied: numpy>=1.14.0 in /usr/local/lib/python3.6/dist-packages (from syft) (1.16.4)\n",
            "Collecting zstd>=1.4.0.0 (from syft)\n",
            "\u001b[?25l  Downloading https://files.pythonhosted.org/packages/8e/27/1ea8086d37424e83ab692015cc8dd7d5e37cf791e339633a40dc828dfb74/zstd-1.4.0.0.tar.gz (450kB)\n",
            "\u001b[K     |████████████████████████████████| 450kB 60.4MB/s \n",
            "\u001b[?25hCollecting msgpack>=0.6.1 (from syft)\n",
            "\u001b[?25l  Downloading https://files.pythonhosted.org/packages/92/7e/ae9e91c1bb8d846efafd1f353476e3fd7309778b582d2fb4cea4cc15b9a2/msgpack-0.6.1-cp36-cp36m-manylinux1_x86_64.whl (248kB)\n",
            "\u001b[K     |████████████████████████████████| 256kB 60.2MB/s \n",
            "\u001b[?25hRequirement already satisfied: torch>=1.1 in /usr/local/lib/python3.6/dist-packages (from syft) (1.1.0)\n",
            "Requirement already satisfied: tblib>=1.4.0 in /usr/local/lib/python3.6/dist-packages (from syft) (1.4.0)\n",
            "Collecting websockets>=7.0 (from syft)\n",
            "\u001b[?25l  Downloading https://files.pythonhosted.org/packages/43/71/8bfa882b9c502c36e5c9ef6732969533670d2b039cbf95a82ced8f762b80/websockets-7.0-cp36-cp36m-manylinux1_x86_64.whl (63kB)\n",
            "\u001b[K     |████████████████████████████████| 71kB 30.7MB/s \n",
            "\u001b[?25hCollecting websocket-client>=0.56.0 (from syft)\n",
            "\u001b[?25l  Downloading https://files.pythonhosted.org/packages/29/19/44753eab1fdb50770ac69605527e8859468f3c0fd7dc5a76dd9c4dbd7906/websocket_client-0.56.0-py2.py3-none-any.whl (200kB)\n",
            "\u001b[K     |████████████████████████████████| 204kB 59.8MB/s \n",
            "\u001b[?25hCollecting lz4>=2.1.6 (from syft)\n",
            "\u001b[?25l  Downloading https://files.pythonhosted.org/packages/0a/c6/96bbb3525a63ebc53ea700cc7d37ab9045542d33b4d262d0f0408ad9bbf2/lz4-2.1.10-cp36-cp36m-manylinux1_x86_64.whl (385kB)\n",
            "\u001b[K     |████████████████████████████████| 389kB 51.1MB/s \n",
            "\u001b[?25hRequirement already satisfied: scikit-learn>=0.21.0 in /usr/local/lib/python3.6/dist-packages (from syft) (0.21.2)\n",
            "Collecting flask-socketio>=3.3.2 (from syft)\n",
            "  Downloading https://files.pythonhosted.org/packages/4b/68/fe4806d3a0a5909d274367eb9b3b87262906c1515024f46c2443a36a0c82/Flask_SocketIO-4.1.0-py2.py3-none-any.whl\n",
            "Collecting tf-encrypted>=0.5.4 (from syft)\n",
            "\u001b[?25l  Downloading https://files.pythonhosted.org/packages/07/ce/da9916e7e78f736894b15538b702c0b213fd5d60a7fd6e481d74033a90c0/tf_encrypted-0.5.6-py3-none-manylinux1_x86_64.whl (1.4MB)\n",
            "\u001b[K     |████████████████████████████████| 1.4MB 44.8MB/s \n",
            "\u001b[?25hRequirement already satisfied: Flask>=1.0.2 in /usr/local/lib/python3.6/dist-packages (from syft) (1.0.3)\n",
            "Requirement already satisfied: torchvision>=0.3.0 in /usr/local/lib/python3.6/dist-packages (from syft) (0.3.0)\n",
            "Requirement already satisfied: six in /usr/local/lib/python3.6/dist-packages (from websocket-client>=0.56.0->syft) (1.12.0)\n",
            "Requirement already satisfied: joblib>=0.11 in /usr/local/lib/python3.6/dist-packages (from scikit-learn>=0.21.0->syft) (0.13.2)\n",
            "Requirement already satisfied: scipy>=0.17.0 in /usr/local/lib/python3.6/dist-packages (from scikit-learn>=0.21.0->syft) (1.3.0)\n",
            "Collecting python-socketio>=2.1.0 (from flask-socketio>=3.3.2->syft)\n",
            "\u001b[?25l  Downloading https://files.pythonhosted.org/packages/c8/e0/a875abbb0f9d70c6e2ec2019ca9e3893377cef5deca6225ead3497000152/python_socketio-4.1.0-py2.py3-none-any.whl (46kB)\n",
            "\u001b[K     |████████████████████████████████| 51kB 23.8MB/s \n",
            "\u001b[?25hRequirement already satisfied: tensorflow<2,>=1.12.0 in /usr/local/lib/python3.6/dist-packages (from tf-encrypted>=0.5.4->syft) (1.14.0rc1)\n",
            "Collecting pyyaml>=5.1 (from tf-encrypted>=0.5.4->syft)\n",
            "\u001b[?25l  Downloading https://files.pythonhosted.org/packages/a3/65/837fefac7475963d1eccf4aa684c23b95aa6c1d033a2c5965ccb11e22623/PyYAML-5.1.1.tar.gz (274kB)\n",
            "\u001b[K     |████████████████████████████████| 276kB 48.2MB/s \n",
            "\u001b[?25hRequirement already satisfied: Werkzeug>=0.14 in /usr/local/lib/python3.6/dist-packages (from Flask>=1.0.2->syft) (0.15.4)\n",
            "Requirement already satisfied: itsdangerous>=0.24 in /usr/local/lib/python3.6/dist-packages (from Flask>=1.0.2->syft) (1.1.0)\n",
            "Requirement already satisfied: Jinja2>=2.10 in /usr/local/lib/python3.6/dist-packages (from Flask>=1.0.2->syft) (2.10.1)\n",
            "Requirement already satisfied: click>=5.1 in /usr/local/lib/python3.6/dist-packages (from Flask>=1.0.2->syft) (7.0)\n",
            "Requirement already satisfied: pillow>=4.1.1 in /usr/local/lib/python3.6/dist-packages (from torchvision>=0.3.0->syft) (4.3.0)\n",
            "Collecting python-engineio>=3.8.0 (from python-socketio>=2.1.0->flask-socketio>=3.3.2->syft)\n",
            "\u001b[?25l  Downloading https://files.pythonhosted.org/packages/9c/d3/de0fa7ebebd054de308e6ac397bf9e11ea42924795a38005a21ea001b114/python_engineio-3.8.1-py2.py3-none-any.whl (119kB)\n",
            "\u001b[K     |████████████████████████████████| 122kB 43.7MB/s \n",
            "\u001b[?25hRequirement already satisfied: keras-preprocessing>=1.0.5 in /usr/local/lib/python3.6/dist-packages (from tensorflow<2,>=1.12.0->tf-encrypted>=0.5.4->syft) (1.1.0)\n",
            "Requirement already satisfied: protobuf>=3.6.1 in /usr/local/lib/python3.6/dist-packages (from tensorflow<2,>=1.12.0->tf-encrypted>=0.5.4->syft) (3.7.1)\n",
            "Requirement already satisfied: tensorflow-estimator<1.15.0rc0,>=1.14.0rc0 in /usr/local/lib/python3.6/dist-packages (from tensorflow<2,>=1.12.0->tf-encrypted>=0.5.4->syft) (1.14.0rc1)\n",
            "Requirement already satisfied: google-pasta>=0.1.6 in /usr/local/lib/python3.6/dist-packages (from tensorflow<2,>=1.12.0->tf-encrypted>=0.5.4->syft) (0.1.7)\n",
            "Requirement already satisfied: wheel>=0.26 in /usr/local/lib/python3.6/dist-packages (from tensorflow<2,>=1.12.0->tf-encrypted>=0.5.4->syft) (0.33.4)\n",
            "Requirement already satisfied: absl-py>=0.7.0 in /usr/local/lib/python3.6/dist-packages (from tensorflow<2,>=1.12.0->tf-encrypted>=0.5.4->syft) (0.7.1)\n",
            "Requirement already satisfied: gast>=0.2.0 in /usr/local/lib/python3.6/dist-packages (from tensorflow<2,>=1.12.0->tf-encrypted>=0.5.4->syft) (0.2.2)\n",
            "Requirement already satisfied: grpcio>=1.8.6 in /usr/local/lib/python3.6/dist-packages (from tensorflow<2,>=1.12.0->tf-encrypted>=0.5.4->syft) (1.15.0)\n",
            "Requirement already satisfied: astor>=0.6.0 in /usr/local/lib/python3.6/dist-packages (from tensorflow<2,>=1.12.0->tf-encrypted>=0.5.4->syft) (0.8.0)\n",
            "Requirement already satisfied: wrapt>=1.11.1 in /usr/local/lib/python3.6/dist-packages (from tensorflow<2,>=1.12.0->tf-encrypted>=0.5.4->syft) (1.11.1)\n",
            "Requirement already satisfied: tensorboard<1.14.0,>=1.13.0 in /usr/local/lib/python3.6/dist-packages (from tensorflow<2,>=1.12.0->tf-encrypted>=0.5.4->syft) (1.13.1)\n",
            "Requirement already satisfied: keras-applications>=1.0.6 in /usr/local/lib/python3.6/dist-packages (from tensorflow<2,>=1.12.0->tf-encrypted>=0.5.4->syft) (1.0.8)\n",
            "Requirement already satisfied: termcolor>=1.1.0 in /usr/local/lib/python3.6/dist-packages (from tensorflow<2,>=1.12.0->tf-encrypted>=0.5.4->syft) (1.1.0)\n",
            "Requirement already satisfied: MarkupSafe>=0.23 in /usr/local/lib/python3.6/dist-packages (from Jinja2>=2.10->Flask>=1.0.2->syft) (1.1.1)\n",
            "Requirement already satisfied: olefile in /usr/local/lib/python3.6/dist-packages (from pillow>=4.1.1->torchvision>=0.3.0->syft) (0.46)\n",
            "Requirement already satisfied: setuptools in /usr/local/lib/python3.6/dist-packages (from protobuf>=3.6.1->tensorflow<2,>=1.12.0->tf-encrypted>=0.5.4->syft) (41.0.1)\n",
            "Requirement already satisfied: markdown>=2.6.8 in /usr/local/lib/python3.6/dist-packages (from tensorboard<1.14.0,>=1.13.0->tensorflow<2,>=1.12.0->tf-encrypted>=0.5.4->syft) (3.1.1)\n",
            "Requirement already satisfied: h5py in /usr/local/lib/python3.6/dist-packages (from keras-applications>=1.0.6->tensorflow<2,>=1.12.0->tf-encrypted>=0.5.4->syft) (2.8.0)\n",
            "Building wheels for collected packages: zstd, pyyaml\n",
            "  Building wheel for zstd (setup.py) ... \u001b[?25l\u001b[?25hdone\n",
            "  Stored in directory: /root/.cache/pip/wheels/ad/9a/f4/3105b5209674ac77fcca7fede95184c62a95df0196888e0e76\n",
            "  Building wheel for pyyaml (setup.py) ... \u001b[?25l\u001b[?25hdone\n",
            "  Stored in directory: /root/.cache/pip/wheels/16/27/a1/775c62ddea7bfa62324fd1f65847ed31c55dadb6051481ba3f\n",
            "Successfully built zstd pyyaml\n",
            "Installing collected packages: zstd, msgpack, websockets, websocket-client, lz4, python-engineio, python-socketio, flask-socketio, pyyaml, tf-encrypted, syft\n",
            "  Found existing installation: msgpack 0.5.6\n",
            "    Uninstalling msgpack-0.5.6:\n",
            "      Successfully uninstalled msgpack-0.5.6\n",
            "  Found existing installation: PyYAML 3.13\n",
            "    Uninstalling PyYAML-3.13:\n",
            "      Successfully uninstalled PyYAML-3.13\n",
            "Successfully installed flask-socketio-4.1.0 lz4-2.1.10 msgpack-0.6.1 python-engineio-3.8.1 python-socketio-4.1.0 pyyaml-5.1.1 syft-0.1.19a1 tf-encrypted-0.5.6 websocket-client-0.56.0 websockets-7.0 zstd-1.4.0.0\n"
          ],
          "name": "stdout"
        },
        {
          "output_type": "stream",
          "text": [
            "WARNING: Logging before flag parsing goes to stderr.\n",
            "W0626 00:09:23.291826 139819085596544 secure_random.py:26] Falling back to insecure randomness since the required custom op could not be found for the installed version of TensorFlow. Fix this by compiling custom ops. Missing file was '/usr/local/lib/python3.6/dist-packages/tf_encrypted/operations/secure_random/secure_random_module_tf_1.14.0-rc1.so'\n",
            "W0626 00:09:23.306598 139819085596544 deprecation_wrapper.py:119] From /usr/local/lib/python3.6/dist-packages/tf_encrypted/session.py:26: The name tf.Session is deprecated. Please use tf.compat.v1.Session instead.\n",
            "\n"
          ],
          "name": "stderr"
        }
      ]
    },
    {
      "cell_type": "code",
      "metadata": {
        "id": "2c4UfAMS5BLP",
        "colab_type": "code",
        "colab": {
          "base_uri": "https://localhost:8080/",
          "height": 34
        },
        "outputId": "90049f42-3422-4601-8b54-8eaca2721e4e"
      },
      "source": [
        "num_teachers, num_examples, num_labels = (100, 100, 10)\n",
        "preds = (np.random.rand(num_teachers, num_examples) * num_labels).astype(int) #fake preds\n",
        "indices = (np.random.rand(num_examples) * num_labels).astype(int) # true answers\n",
        "\n",
        "preds[:,0:10] *= 0\n",
        "\n",
        "data_dep_eps, data_ind_eps = pate.perform_analysis(teacher_preds=preds, indices=indices, noise_eps=0.1, delta=1e-5)\n",
        "\n",
        "assert data_dep_eps < data_ind_eps\n",
        "\n"
      ],
      "execution_count": 21,
      "outputs": [
        {
          "output_type": "stream",
          "text": [
            "Warning: May not have used enough values of l. Increase 'moments' variable and run again.\n"
          ],
          "name": "stdout"
        }
      ]
    },
    {
      "cell_type": "code",
      "metadata": {
        "id": "jYFELQAS5BLR",
        "colab_type": "code",
        "colab": {
          "base_uri": "https://localhost:8080/",
          "height": 70
        },
        "outputId": "8726e666-c72a-4b1a-9603-c0c56c1ea870"
      },
      "source": [
        "data_dep_eps, data_ind_eps = pate.perform_analysis(teacher_preds=preds, indices=indices, noise_eps=0.1, delta=1e-5)\n",
        "print(\"Data Independent Epsilon:\", data_ind_eps)\n",
        "print(\"Data Dependent Epsilon:\", data_dep_eps)"
      ],
      "execution_count": 22,
      "outputs": [
        {
          "output_type": "stream",
          "text": [
            "Warning: May not have used enough values of l. Increase 'moments' variable and run again.\n",
            "Data Independent Epsilon: 11.756462732485115\n",
            "Data Dependent Epsilon: 1.52655213289881\n"
          ],
          "name": "stdout"
        }
      ]
    },
    {
      "cell_type": "code",
      "metadata": {
        "id": "Su13AQzz5BLT",
        "colab_type": "code",
        "colab": {}
      },
      "source": [
        "preds[:,0:50] *= 0"
      ],
      "execution_count": 0,
      "outputs": []
    },
    {
      "cell_type": "code",
      "metadata": {
        "id": "LLn5KRKU5BLT",
        "colab_type": "code",
        "colab": {
          "base_uri": "https://localhost:8080/",
          "height": 52
        },
        "outputId": "aa5d7878-1990-49a7-9634-4aff912cbea5"
      },
      "source": [
        "data_dep_eps, data_ind_eps = pate.perform_analysis(teacher_preds=preds, indices=indices, noise_eps=0.1, delta=1e-5, moments=20)\n",
        "print(\"Data Independent Epsilon:\", data_ind_eps)\n",
        "print(\"Data Dependent Epsilon:\", data_dep_eps)"
      ],
      "execution_count": 26,
      "outputs": [
        {
          "output_type": "stream",
          "text": [
            "Data Independent Epsilon: 11.756462732485115\n",
            "Data Dependent Epsilon: 0.9029013677789843\n"
          ],
          "name": "stdout"
        }
      ]
    },
    {
      "cell_type": "code",
      "metadata": {
        "id": "Ru61lFlH5BLV",
        "colab_type": "code",
        "colab": {}
      },
      "source": [
        ""
      ],
      "execution_count": 0,
      "outputs": []
    },
    {
      "cell_type": "markdown",
      "metadata": {
        "id": "tRftnYpb5BLW",
        "colab_type": "text"
      },
      "source": [
        "# Where to Go From Here\n",
        "\n",
        "\n",
        "Read:\n",
        "* Algorithmic Foundations of Differential Privacy: https://www.cis.upenn.edu/~aaroth/Papers/privacybook.pdf\n",
        "* Deep Learning with Differential Privacy: https://arxiv.org/pdf/1607.00133.pdf\n",
        "* The Ethical Algorithm: https://www.amazon.com/Ethical-Algorithm-Science-Socially-Design/dp/0190948205\n",
        "\n",
        "\n",
        "\n",
        "   \n",
        "Topics:\n",
        "* The Exponential Mechanism\n",
        "* The Moment's Accountant\n",
        "*  Differentially Private Stochastic Gradient Descent"
      ]
    },
    {
      "cell_type": "code",
      "metadata": {
        "id": "v-Up664v5BLW",
        "colab_type": "code",
        "colab": {}
      },
      "source": [
        ""
      ],
      "execution_count": 0,
      "outputs": []
    },
    {
      "cell_type": "code",
      "metadata": {
        "id": "kd0GzxPD5BLX",
        "colab_type": "code",
        "colab": {}
      },
      "source": [
        ""
      ],
      "execution_count": 0,
      "outputs": []
    },
    {
      "cell_type": "markdown",
      "metadata": {
        "id": "MhrlyJ3K5BLY",
        "colab_type": "text"
      },
      "source": [
        "# Section Project:\n",
        "\n",
        "For the final project for this section, you're going to train a DP model using this PATE method on the MNIST dataset, provided below."
      ]
    },
    {
      "cell_type": "code",
      "metadata": {
        "id": "5DdPKLJN5BLZ",
        "colab_type": "code",
        "colab": {}
      },
      "source": [
        "import torchvision.datasets as datasets\n",
        "mnist_trainset = datasets.MNIST(root='./data', train=True, download=True, transform=None)"
      ],
      "execution_count": 0,
      "outputs": []
    },
    {
      "cell_type": "code",
      "metadata": {
        "id": "4g9aXRid5BLa",
        "colab_type": "code",
        "colab": {}
      },
      "source": [
        "train_data = mnist_trainset.train_data\n",
        "train_targets = mnist_trainset.train_labels"
      ],
      "execution_count": 0,
      "outputs": []
    },
    {
      "cell_type": "code",
      "metadata": {
        "id": "doUE6uzG5BLc",
        "colab_type": "code",
        "colab": {}
      },
      "source": [
        "test_data = mnist_trainset.test_data\n",
        "test_targets = mnist_trainset.test_labels"
      ],
      "execution_count": 0,
      "outputs": []
    },
    {
      "cell_type": "code",
      "metadata": {
        "id": "V2vQTugr5BLf",
        "colab_type": "code",
        "colab": {}
      },
      "source": [
        ""
      ],
      "execution_count": 0,
      "outputs": []
    }
  ]
}